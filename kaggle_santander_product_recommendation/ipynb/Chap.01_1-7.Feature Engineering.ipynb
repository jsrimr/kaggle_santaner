{
 "cells": [
  {
   "cell_type": "markdown",
   "metadata": {},
   "source": [
    "## ch 1-7 Feature Engineering\n",
    "- datetime feature into int\n",
    "- melt to sinlge in ML fit\n",
    "\n",
    "## ch 1-8 ML Fit\n",
    "- train / dev / test split\n",
    "- ml fit\n",
    "- evaluate\n",
    "    - linear, tree, ensemble\n",
    "    - train / dev / test score\n",
    "- review + improvements\n",
    "- kweonwooj's submission\n",
    "- review + improvements\n",
    "\n",
    "## ch 1-9 승자의 지혜\n",
    "- winner's code #1\n",
    "\n",
    "- winner's code #2"
   ]
  },
  {
   "cell_type": "code",
   "execution_count": null,
   "metadata": {},
   "outputs": [],
   "source": [
    "# 1-7\n",
    "# Feature Engineering v1\n",
    "# convert timestamp column into int/float\n",
    "# melt target\n",
    "# save as train_feng.v1.csv"
   ]
  },
  {
   "cell_type": "code",
   "execution_count": null,
   "metadata": {},
   "outputs": [],
   "source": [
    "import pandas as pd\n",
    "\n",
    "trn = pd.read_csv('data/train_prep.csv')\n",
    "\n",
    "# melt target 완료된 데이터\n",
    "train = pd.read_csv('data/train_feng.v1.csv')"
   ]
  },
  {
   "cell_type": "code",
   "execution_count": null,
   "metadata": {},
   "outputs": [],
   "source": [
    "# 날짜 데이터 정수형으로 변환하기"
   ]
  },
  {
   "cell_type": "code",
   "execution_count": null,
   "metadata": {},
   "outputs": [],
   "source": [
    "# 신규 구매 데이터 1줄로 요약\n",
    "data = []\n",
    "for _, row in trn.iterrows():\n",
    "    for i in range(24):\n",
    "        if row[23+i] == 1:\n",
    "            temp = row[:23].values.tolist()\n",
    "            temp.append(i)\n",
    "            data.append(temp)\n",
    "            \n",
    "cols = trn.columns[:23].tolist()\n",
    "cols.append('target')\n",
    "train = pd.DataFrame(data, columns = cols)"
   ]
  },
  {
   "cell_type": "code",
   "execution_count": null,
   "metadata": {},
   "outputs": [],
   "source": [
    "train.to_csv('data/train_feng.v1.csv', index=False)"
   ]
  },
  {
   "cell_type": "code",
   "execution_count": null,
   "metadata": {},
   "outputs": [],
   "source": []
  },
  {
   "cell_type": "code",
   "execution_count": null,
   "metadata": {},
   "outputs": [],
   "source": []
  },
  {
   "cell_type": "code",
   "execution_count": null,
   "metadata": {},
   "outputs": [],
   "source": []
  },
  {
   "cell_type": "code",
   "execution_count": null,
   "metadata": {},
   "outputs": [],
   "source": []
  }
 ],
 "metadata": {
  "kernelspec": {
   "display_name": "Python 3",
   "language": "python",
   "name": "python3"
  },
  "language_info": {
   "codemirror_mode": {
    "name": "ipython",
    "version": 3
   },
   "file_extension": ".py",
   "mimetype": "text/x-python",
   "name": "python",
   "nbconvert_exporter": "python",
   "pygments_lexer": "ipython3",
   "version": "3.6.4"
  }
 },
 "nbformat": 4,
 "nbformat_minor": 2
}
