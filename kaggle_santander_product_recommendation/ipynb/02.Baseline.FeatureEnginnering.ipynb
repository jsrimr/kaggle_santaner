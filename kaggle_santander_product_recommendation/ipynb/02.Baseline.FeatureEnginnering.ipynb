{
 "cells": [
  {
   "cell_type": "code",
   "execution_count": 1,
   "metadata": {},
   "outputs": [
    {
     "name": "stderr",
     "output_type": "stream",
     "text": [
      "/home1/irteam/.pyenv/versions/3.6.4/envs/venv/lib/python3.6/importlib/_bootstrap.py:219: RuntimeWarning: numpy.dtype size changed, may indicate binary incompatibility. Expected 96, got 88\n",
      "  return f(*args, **kwds)\n"
     ]
    }
   ],
   "source": [
    "import pandas as pd\n",
    "import numpy as np\n",
    "from sklearn.preprocessing import LabelEncoder"
   ]
  },
  {
   "cell_type": "code",
   "execution_count": 2,
   "metadata": {},
   "outputs": [
    {
     "name": "stderr",
     "output_type": "stream",
     "text": [
      "/home1/irteam/.pyenv/versions/3.6.4/envs/venv/lib/python3.6/site-packages/IPython/core/interactiveshell.py:2728: DtypeWarning: Columns (14) have mixed types. Specify dtype option on import or set low_memory=False.\n",
      "  interactivity=interactivity, compiler=compiler, result=result)\n"
     ]
    }
   ],
   "source": [
    "trn = pd.read_csv('data/baseline.clean.trn.csv')\n",
    "tst = pd.read_csv('data/baseline.clean.tst.csv')\n",
    "y = pd.read_csv('data/baseline.clean.y.csv')"
   ]
  },
  {
   "cell_type": "code",
   "execution_count": 3,
   "metadata": {},
   "outputs": [
    {
     "name": "stdout",
     "output_type": "stream",
     "text": [
      "# Processing data..\n"
     ]
    }
   ],
   "source": [
    "print('# Processing data..')\n",
    "cols_to_use = ['pais_residencia', 'sexo', 'age', 'antiguedad', 'canal_entrada', 'cod_prov', 'renta', 'segmento']\n",
    "trn = trn[cols_to_use]\n",
    "tst = tst[cols_to_use]\n",
    "\n",
    "# factorize = LabelEncode categorical features\n",
    "categoricals = ['pais_residencia', 'sexo', 'canal_entrada', 'segmento']\n",
    "for col in categoricals:\n",
    "    temp, _ = pd.concat([trn[col], tst[col]], axis=0).factorize()\n",
    "    trn[col] = temp[:trn.shape[0]]\n",
    "    tst[col] = temp[trn.shape[0]:]\n",
    "\n",
    "# preprocessing\n",
    "trn.fillna(-99, inplace=True)\n",
    "tst.fillna(-99, inplace=True)\n",
    "\n",
    "trn['age'].replace(' NA', -99, inplace=True)\n",
    "trn['age'] = trn['age'].astype(int)\n",
    "\n",
    "trn['antiguedad'].replace('     NA', -99, inplace=True)\n",
    "trn['antiguedad'] = trn['antiguedad'].astype(int)\n",
    "\n",
    "trn['cod_prov'] = trn['cod_prov'].replace('nan', -99).astype(float).astype(int)\n",
    "tst['cod_prov'] = tst['cod_prov'].replace('nan', -99).astype(float).astype(int)\n",
    "\n",
    "trn['renta'] = trn['renta'].replace('nan', -99).astype(float).astype(int)\n",
    "tst['renta'] = tst['renta'].replace('         NA', -99).astype(float).astype(int)\n",
    "\n",
    "# leave nan as is\n",
    "trn.replace(-99, np.nan, inplace=True)\n",
    "tst.replace(-99, np.nan, inplace=True)"
   ]
  },
  {
   "cell_type": "code",
   "execution_count": 4,
   "metadata": {},
   "outputs": [],
   "source": [
    "trn.to_csv('data/baseline.feature_engineer.trn.csv', index=False)\n",
    "tst.to_csv('data/baseline.feature_engineer.tst.csv', index=False)"
   ]
  }
 ],
 "metadata": {
  "kernelspec": {
   "display_name": "Python 3",
   "language": "python",
   "name": "python3"
  },
  "language_info": {
   "codemirror_mode": {
    "name": "ipython",
    "version": 3
   },
   "file_extension": ".py",
   "mimetype": "text/x-python",
   "name": "python",
   "nbconvert_exporter": "python",
   "pygments_lexer": "ipython3",
   "version": "3.6.4"
  }
 },
 "nbformat": 4,
 "nbformat_minor": 2
}
