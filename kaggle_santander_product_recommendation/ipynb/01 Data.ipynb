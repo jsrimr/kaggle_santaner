{
 "cells": [
  {
   "cell_type": "code",
   "execution_count": 1,
   "metadata": {},
   "outputs": [],
   "source": [
    "import time\n",
    "import pandas as pd"
   ]
  },
  {
   "cell_type": "code",
   "execution_count": 2,
   "metadata": {},
   "outputs": [],
   "source": [
    "# 타이머 기능\n",
    "def print_time(end, start):\n",
    "    print('='*50)\n",
    "    elapsed = end - start\n",
    "    print('{} secs'.format(round(elapsed)))"
   ]
  },
  {
   "cell_type": "code",
   "execution_count": 3,
   "metadata": {},
   "outputs": [
    {
     "name": "stderr",
     "output_type": "stream",
     "text": [
      "/home1/irteam/.pyenv/versions/3.6.4/envs/venv/lib/python3.6/site-packages/IPython/core/interactiveshell.py:2728: DtypeWarning: Columns (5,8,11,15) have mixed types. Specify dtype option on import or set low_memory=False.\n",
      "  interactivity=interactivity, compiler=compiler, result=result)\n"
     ]
    }
   ],
   "source": [
    "import pandas as pd\n",
    "import numpy as np\n",
    "\n",
    "trn = pd.read_csv('data/train_ver2.csv')"
   ]
  },
  {
   "cell_type": "code",
   "execution_count": null,
   "metadata": {},
   "outputs": [],
   "source": [
    "st = time.time()\n",
    "\n",
    "# 데이터 읽어오기\n",
    "trn = pd.read_csv('../data/train_ver2.csv')\n",
    "\n",
    "print_time(time.time(),st)"
   ]
  },
  {
   "cell_type": "code",
   "execution_count": null,
   "metadata": {},
   "outputs": [],
   "source": [
    "st = time.time()\n",
    "\n",
    "# 변수명 확인\n",
    "print(len(trn.columns))\n",
    "print(list(trn.columns))\n",
    "\n",
    "print_time(time.time(),st)"
   ]
  },
  {
   "cell_type": "code",
   "execution_count": null,
   "metadata": {},
   "outputs": [],
   "source": [
    "trn.head()"
   ]
  },
  {
   "cell_type": "code",
   "execution_count": null,
   "metadata": {
    "scrolled": true
   },
   "outputs": [],
   "source": [
    "for col in trn.columns:\n",
    "    print('{}\\n'.format(trn[col].head()))"
   ]
  },
  {
   "cell_type": "code",
   "execution_count": null,
   "metadata": {},
   "outputs": [],
   "source": [
    "trn.info()"
   ]
  },
  {
   "cell_type": "code",
   "execution_count": null,
   "metadata": {},
   "outputs": [],
   "source": [
    "trn['fecha_dato'].dtype"
   ]
  },
  {
   "cell_type": "code",
   "execution_count": null,
   "metadata": {},
   "outputs": [],
   "source": [
    "trn['ind_recibo_ult1'].dtype"
   ]
  },
  {
   "cell_type": "code",
   "execution_count": null,
   "metadata": {},
   "outputs": [],
   "source": [
    "trn['ind_nom_pens_ult1'].dtype"
   ]
  },
  {
   "cell_type": "code",
   "execution_count": null,
   "metadata": {},
   "outputs": [],
   "source": [
    "num_cols = [col for col in trn.columns[:24] if trn[col].dtype in ['int64', 'float64']]\n",
    "trn[num_cols].describe()"
   ]
  },
  {
   "cell_type": "code",
   "execution_count": null,
   "metadata": {},
   "outputs": [],
   "source": [
    "num_cols"
   ]
  },
  {
   "cell_type": "code",
   "execution_count": null,
   "metadata": {},
   "outputs": [],
   "source": [
    "cat_cols = [col for col in trn.columns[:24] if trn[col].dtype in ['O']]\n",
    "trn[cat_cols].describe()"
   ]
  },
  {
   "cell_type": "code",
   "execution_count": null,
   "metadata": {},
   "outputs": [],
   "source": [
    "cat_cols"
   ]
  },
  {
   "cell_type": "code",
   "execution_count": null,
   "metadata": {},
   "outputs": [],
   "source": []
  },
  {
   "cell_type": "code",
   "execution_count": null,
   "metadata": {},
   "outputs": [],
   "source": [
    "for col in cat_cols:\n",
    "    uniq = np.unique(trn[col].astype(str))\n",
    "    print('-' * 50)\n",
    "    print('# col {}, n_uniq {}, uniq {}'.format(col, len(uniq), uniq))"
   ]
  },
  {
   "cell_type": "code",
   "execution_count": null,
   "metadata": {},
   "outputs": [],
   "source": []
  },
  {
   "cell_type": "code",
   "execution_count": 4,
   "metadata": {},
   "outputs": [],
   "source": [
    "import matplotlib\n",
    "import matplotlib.pyplot as plt\n",
    "%matplotlib inline\n",
    "import seaborn as sns"
   ]
  },
  {
   "cell_type": "code",
   "execution_count": null,
   "metadata": {
    "scrolled": true
   },
   "outputs": [],
   "source": [
    "skip_cols = ['ncodpers', 'renta']\n",
    "for col in trn.columns:\n",
    "    # 출력에 너무 시간이 많이 걸리는 두 변수는 skip\n",
    "    if col in skip_cols:\n",
    "        continue\n",
    "        \n",
    "    # 보기 편하게 영역 구분 및 변수명 출력\n",
    "    print('='*50)\n",
    "    print('col : ', col)\n",
    "    \n",
    "    # 그래프 크기 (figsize) 설정\n",
    "    f, ax = plt.subplots(figsize=(20, 15))\n",
    "    # seaborn을 사용한 막대그래프 생성\n",
    "    sns.countplot(x=col, data=trn, alpha=0.5)\n",
    "    # show() 함수를 통해 시각화\n",
    "    plt.show()"
   ]
  },
  {
   "cell_type": "code",
   "execution_count": null,
   "metadata": {},
   "outputs": [],
   "source": []
  },
  {
   "cell_type": "code",
   "execution_count": 6,
   "metadata": {},
   "outputs": [],
   "source": [
    "dates = np.unique(trn['fecha_dato'])"
   ]
  },
  {
   "cell_type": "code",
   "execution_count": 8,
   "metadata": {
    "scrolled": true
   },
   "outputs": [
    {
     "name": "stdout",
     "output_type": "stream",
     "text": [
      "==================================================\n",
      "col : ind_empleado | date : 2015-01-28\n"
     ]
    },
    {
     "data": {
      "image/png": "[encoded data removed]",
      "text/plain": [
       "<matplotlib.figure.Figure at 0x7f5c5a3fc550>"
      ]
     },
     "metadata": {},
     "output_type": "display_data"
    },
    {
     "name": "stdout",
     "output_type": "stream",
     "text": [
      "col : ind_empleado | date : 2015-02-28\n"
     ]
    },
    {
     "data": {
      "image/png": "[encoded data removed]",
      "text/plain": [
       "<matplotlib.figure.Figure at 0x7f5c5a442518>"
      ]
     },
     "metadata": {},
     "output_type": "display_data"
    },
    {
     "name": "stdout",
     "output_type": "stream",
     "text": [
      "col : ind_empleado | date : 2015-03-28\n"
     ]
    },
    {
     "data": {
      "image/png": "[encoded data removed]",
      "text/plain": [
       "<matplotlib.figure.Figure at 0x7f5c5a37d710>"
      ]
     },
     "metadata": {},
     "output_type": "display_data"
    },
    {
     "name": "stdout",
     "output_type": "stream",
     "text": [
      "col : ind_empleado | date : 2015-04-28\n"
     ]
    },
    {
     "data": {
      "image/png": "[encoded data removed]",
      "text/plain": [
       "<matplotlib.figure.Figure at 0x7f5c5a35d240>"
      ]
     },
     "metadata": {},
     "output_type": "display_data"
    },
    {
     "name": "stdout",
     "output_type": "stream",
     "text": [
      "==================================================\n",
      "8 secs\n"
     ]
    }
   ],
   "source": [
    "st = time.time()\n",
    "\n",
    "skip_cols = ['fecha_dato','ncodpers', 'renta']\n",
    "for col in trn.columns[:3]:\n",
    "    if col in skip_cols:\n",
    "        continue\n",
    "        \n",
    "    print('='*50)\n",
    "    \n",
    "    for i, date in enumerate(dates):\n",
    "        print('col : {} | date : {}'.format(col, date))\n",
    "        f, ax = plt.subplots(figsize=(5, 5))\n",
    "        sns.countplot(x=col, data=trn[trn['fecha_dato'] == date], alpha=0.5)\n",
    "        plt.show()\n",
    "    \n",
    "        if i == 3:\n",
    "            break\n",
    "    break\n",
    "    \n",
    "print_time(time.time(),st)"
   ]
  },
  {
   "cell_type": "code",
   "execution_count": null,
   "metadata": {},
   "outputs": [],
   "source": [
    "col = 'segmento'\n",
    "print('='*50)\n",
    "print('col : ', col)\n",
    "f, ax = plt.subplots(figsize=(20, 15))\n",
    "sns.countplot(x=col, data=trn, alpha=0.5)\n",
    "plt.show()"
   ]
  },
  {
   "cell_type": "code",
   "execution_count": null,
   "metadata": {},
   "outputs": [],
   "source": [
    "trn.columns[24:]"
   ]
  },
  {
   "cell_type": "code",
   "execution_count": null,
   "metadata": {
    "scrolled": true
   },
   "outputs": [],
   "source": [
    "for col in trn.columns[24:]:\n",
    "    print('='*50)\n",
    "    print('col : ', col)\n",
    "    f, ax = plt.subplots(figsize=(20, 15))\n",
    "    sns.countplot(x=col, data=trn, alpha=0.5)\n",
    "    plt.show()"
   ]
  },
  {
   "cell_type": "code",
   "execution_count": null,
   "metadata": {},
   "outputs": [],
   "source": []
  },
  {
   "cell_type": "code",
   "execution_count": null,
   "metadata": {},
   "outputs": [],
   "source": []
  },
  {
   "cell_type": "code",
   "execution_count": null,
   "metadata": {},
   "outputs": [],
   "source": [
    "import numpy as np\n",
    "import pandas as pd\n",
    "\n",
    "# prepare for visualization\n",
    "\n",
    "months = np.unique(trn['fecha_dato']).tolist()\n",
    "label_cols = trn.columns[24:].tolist()\n",
    "\n",
    "label_over_time = []\n",
    "for i in range(len(label_cols)):\n",
    "    label_over_time.append(trn.groupby(['fecha_dato'])[label_cols[i]].agg('sum').tolist())\n",
    "    \n",
    "label_sum_over_time = []\n",
    "for i in range(len(label_cols)):\n",
    "    label_sum_over_time.append(np.asarray(label_over_time[i:]).sum(axis=0))\n",
    "    \n",
    "color_list = ['#F5B7B1','#D2B4DE','#AED6F1','#A2D9CE','#ABEBC6','#F9E79F','#F5CBA7','#CCD1D1']"
   ]
  },
  {
   "cell_type": "code",
   "execution_count": null,
   "metadata": {},
   "outputs": [],
   "source": [
    "# plot stacked barplot of month vs labels\n",
    "f, ax = plt.subplots(figsize=(30, 15))\n",
    "for i in range(len(label_cols)):\n",
    "    sns.barplot(x=months, y=label_sum_over_time[i], color = color_list[i%8], alpha=0.7)\n",
    "    \n",
    "plt.legend([plt.Rectangle((0,0),1,1,fc=color_list[i%8], edgecolor = 'none') for i in range(len(label_cols))], label_cols, loc=1, ncol = 2, prop={'size':16})"
   ]
  },
  {
   "cell_type": "code",
   "execution_count": null,
   "metadata": {},
   "outputs": [],
   "source": [
    "# plot stacked barplot of month vs labels in percentage\n",
    "label_sum_percent = (label_sum_over_time / (1.*np.asarray(label_sum_over_time).max(axis=0))) * 100\n",
    "\n",
    "f, ax = plt.subplots(figsize=(30, 15))\n",
    "for i in range(len(label_cols)):\n",
    "    sns.barplot(x=months, y=label_sum_percent[i], color = color_list[i%8], alpha=0.7)\n",
    "    \n",
    "plt.legend([plt.Rectangle((0,0),1,1,fc=color_list[i%8], edgecolor = 'none') for i in range(len(label_cols))], \\\n",
    "           label_cols, loc=1, ncol = 2, prop={'size':16})"
   ]
  },
  {
   "cell_type": "code",
   "execution_count": null,
   "metadata": {},
   "outputs": [],
   "source": [
    "trn.shape"
   ]
  },
  {
   "cell_type": "code",
   "execution_count": null,
   "metadata": {},
   "outputs": [],
   "source": [
    "trn.head()"
   ]
  },
  {
   "cell_type": "markdown",
   "metadata": {},
   "source": [
    "# GET PURCHASE ONLY!\n",
    "https://github.com/kweonwooj/kaggle_santander_product_recommendation/blob/master/bare_minimum/code/main.py#L36"
   ]
  },
  {
   "cell_type": "code",
   "execution_count": null,
   "metadata": {},
   "outputs": [],
   "source": [
    "import pandas as pd\n",
    "import numpy as np\n",
    "import os\n",
    "\n",
    "\n",
    "# iterate over train target cols, store the customer's last possession in dictionary, and ultimately\n",
    "# get new purchase data.\n",
    "def generate_labels():\n",
    "\n",
    "    target_cols = ['ind_ahor_fin_ult1', 'ind_aval_fin_ult1', 'ind_cco_fin_ult1', 'ind_cder_fin_ult1',\n",
    "                   'ind_cno_fin_ult1', 'ind_ctju_fin_ult1', 'ind_ctma_fin_ult1', 'ind_ctop_fin_ult1',\n",
    "                   'ind_ctpp_fin_ult1', 'ind_deco_fin_ult1', 'ind_deme_fin_ult1', 'ind_dela_fin_ult1',\n",
    "                   'ind_ecue_fin_ult1', 'ind_fond_fin_ult1', 'ind_hip_fin_ult1', 'ind_plan_fin_ult1',\n",
    "                   'ind_pres_fin_ult1', 'ind_reca_fin_ult1', 'ind_tjcr_fin_ult1', 'ind_valo_fin_ult1',\n",
    "                   'ind_viv_fin_ult1', 'ind_nomina_ult1', 'ind_nom_pens_ult1', 'ind_recibo_ult1']\n",
    "\n",
    "    # read train data line by line\n",
    "    f = open('../data/train_ver2.csv', 'r', encoding='utf8')\n",
    "    f.readline()\n",
    "\n",
    "    # write labels.csv line by line\n",
    "    if not os.path.isdir('../data'):\n",
    "        os.mkdir('../data')\n",
    "    g = open('../data/labels.csv', 'w')\n",
    "\n",
    "    # write header\n",
    "    out = ','.join(target_cols) + '\\n'\n",
    "    g.write(out)\n",
    "\n",
    "    possession_log = dict()\n",
    "    count = 0\n",
    "    # iterate over train data\n",
    "    while True:\n",
    "        line = f.readline()[:-1]\n",
    "        out = \"\"\n",
    "\n",
    "        # break when all lines are read\n",
    "        if line == '':\n",
    "            break\n",
    "\n",
    "        # split all values\n",
    "        vals = line.split('\"')\n",
    "        vals = vals[0][:-1].split(',') + [vals[1]] + vals[2][1:].split(',')\n",
    "        vals = [a.strip() for a in vals]\n",
    "\n",
    "        # store current possession in labels\n",
    "        possession = np.zeros(24).astype(int)\n",
    "        for i, a in enumerate(vals[24:]):\n",
    "            try:\n",
    "                possession[i] = int(float(a))\n",
    "            except:\n",
    "                possession[i] = 0\n",
    "        ncodper = vals[1]\n",
    "\n",
    "        # extract new purchases only\n",
    "        purchases = np.zeros(24).astype(int)\n",
    "        if ncodper in possession_log:\n",
    "            for i in range(24):\n",
    "                if possession[i] == 1 and possession_log[ncodper][i] == 0:\n",
    "                    purchases[i] = 1\n",
    "        else:\n",
    "            purchases = possession\n",
    "\n",
    "        # store current possession of user in dictionary\n",
    "        possession_log[ncodper] = possession\n",
    "\n",
    "        for i in range(24):\n",
    "            out += str(purchases[i]) + ','\n",
    "        out = out[:-1] + '\\n'\n",
    "        g.write(out)\n",
    "\n",
    "        count += 1\n",
    "\n",
    "        if count % 1000000 == 0:\n",
    "            print('# Processing {} lines..'.format(count))\n",
    "\n",
    "    print('# Generated labels.csv..')\n",
    "    # close file\n",
    "    f.close()\n",
    "    g.close()\n",
    "    \n",
    "generate_labels()"
   ]
  },
  {
   "cell_type": "code",
   "execution_count": null,
   "metadata": {},
   "outputs": [],
   "source": [
    "labels.shape"
   ]
  },
  {
   "cell_type": "code",
   "execution_count": null,
   "metadata": {},
   "outputs": [],
   "source": [
    "import pandas as pd\n",
    "\n",
    "labels = pd.read_csv('../data/labels.csv').astype(int)\n",
    "fecha_dato = pd.read_csv('../data/train_ver2.csv', usecols=['fecha_dato'])\n",
    "\n",
    "labels['date'] = fecha_dato.fecha_dato\n",
    "months = np.unique(fecha_dato.fecha_dato).tolist()\n",
    "label_cols = labels.columns.tolist()[:24]\n",
    "\n",
    "# prepare for visualization\n",
    "\n",
    "label_over_time = []\n",
    "for i in range(len(label_cols)):\n",
    "    label_over_time.append(labels.groupby(['date'])[label_cols[i]].agg('sum').tolist())\n",
    "    \n",
    "label_sum_over_time = []\n",
    "for i in range(len(label_cols)):\n",
    "    label_sum_over_time.append(np.asarray(label_over_time[i:]).sum(axis=0))\n",
    "    \n",
    "color_list = ['#F5B7B1','#D2B4DE','#AED6F1','#A2D9CE','#ABEBC6','#F9E79F','#F5CBA7','#CCD1D1']"
   ]
  },
  {
   "cell_type": "code",
   "execution_count": null,
   "metadata": {
    "scrolled": false
   },
   "outputs": [],
   "source": [
    "# plot stacked barplot of month vs labels\n",
    "f, ax = plt.subplots(figsize=(30, 15))\n",
    "for i in range(len(label_cols)):\n",
    "    sns.barplot(x=months, y=label_sum_over_time[i], color = color_list[i%8], alpha=0.7)\n",
    "    \n",
    "plt.legend([plt.Rectangle((0,0),1,1,fc=color_list[i%8], edgecolor = 'none') for i in range(len(label_cols))], label_cols, loc=1, ncol = 2, prop={'size':16})"
   ]
  },
  {
   "cell_type": "code",
   "execution_count": null,
   "metadata": {},
   "outputs": [],
   "source": [
    "# plot stacked barplot of month vs labels in percentage\n",
    "label_sum_percent = (label_sum_over_time / (1.*np.asarray(label_sum_over_time).max(axis=0))) * 100\n",
    "\n",
    "f, ax = plt.subplots(figsize=(30, 15))\n",
    "for i in range(len(label_cols)):\n",
    "    sns.barplot(x=months, y=label_sum_percent[i], color = color_list[i%8], alpha=0.7)\n",
    "    \n",
    "plt.legend([plt.Rectangle((0,0),1,1,fc=color_list[i%8], edgecolor = 'none') for i in range(len(label_cols))], \\\n",
    "           label_cols, loc=1, ncol = 2, prop={'size':16})"
   ]
  },
  {
   "cell_type": "code",
   "execution_count": null,
   "metadata": {},
   "outputs": [],
   "source": [
    "trn.shape, labels.shape"
   ]
  }
 ],
 "metadata": {
  "kernelspec": {
   "display_name": "Python 3",
   "language": "python",
   "name": "python3"
  },
  "language_info": {
   "codemirror_mode": {
    "name": "ipython",
    "version": 3
   },
   "file_extension": ".py",
   "mimetype": "text/x-python",
   "name": "python",
   "nbconvert_exporter": "python",
   "pygments_lexer": "ipython3",
   "version": "3.6.4"
  }
 },
 "nbformat": 4,
 "nbformat_minor": 2
}
