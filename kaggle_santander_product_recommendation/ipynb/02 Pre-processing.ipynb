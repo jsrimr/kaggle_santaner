{
 "cells": [
  {
   "cell_type": "code",
   "execution_count": null,
   "metadata": {},
   "outputs": [],
   "source": [
    "countries = ['Korea', 'Korea', 'China', 'Korea', 'Japan', 'China']"
   ]
  },
  {
   "cell_type": "code",
   "execution_count": 7,
   "metadata": {},
   "outputs": [],
   "source": [
    "from sklearn.preprocessing import LabelEncoder"
   ]
  },
  {
   "cell_type": "code",
   "execution_count": null,
   "metadata": {},
   "outputs": [],
   "source": [
    "lb = LabelEncoder()\n",
    "lb.fit(countries)\n",
    "lb.transform(countries)"
   ]
  },
  {
   "cell_type": "code",
   "execution_count": null,
   "metadata": {},
   "outputs": [],
   "source": [
    "# 6명 선수의 국적\n",
    "countries = ['Korea', 'Korea', 'China', 'Korea', 'Japan', 'China']\n",
    "\n",
    "# LabelEncoder 불러오기\n",
    "from sklearn.preprocessing import LabelEncoder\n",
    "\n",
    "# LabelEncoder object 생성\n",
    "lb = LabelEncoder()\n",
    "# .fit()을 통해 범주형 데이터 고유값을 학습\n",
    "lb.fit(countries)\n",
    "# .transform()을 통해 수치형 데이터로 변환\n",
    "lb.transform(countries)"
   ]
  },
  {
   "cell_type": "code",
   "execution_count": null,
   "metadata": {},
   "outputs": [],
   "source": [
    "lb.classes_"
   ]
  },
  {
   "cell_type": "code",
   "execution_count": null,
   "metadata": {},
   "outputs": [],
   "source": [
    "semi_finalists = ['China', 'China', 'China', 'Korea']\n",
    "lb.transform(semi_finalists)"
   ]
  },
  {
   "cell_type": "code",
   "execution_count": null,
   "metadata": {},
   "outputs": [],
   "source": [
    "finalists = ['China', 'United States', 'China', 'Korea']\n",
    "lb.transform(finalists)"
   ]
  },
  {
   "cell_type": "code",
   "execution_count": null,
   "metadata": {},
   "outputs": [],
   "source": []
  },
  {
   "cell_type": "code",
   "execution_count": null,
   "metadata": {},
   "outputs": [],
   "source": [
    "df = pd.DataFrame(['Korea', 'Japan', float('nan')])\n",
    "df"
   ]
  },
  {
   "cell_type": "code",
   "execution_count": null,
   "metadata": {},
   "outputs": [],
   "source": [
    "df.fillna('Unknown')"
   ]
  },
  {
   "cell_type": "code",
   "execution_count": null,
   "metadata": {},
   "outputs": [],
   "source": []
  },
  {
   "cell_type": "code",
   "execution_count": null,
   "metadata": {},
   "outputs": [],
   "source": [
    "import numpy as np\n",
    "import pandas as pd\n",
    "\n",
    "trn = pd.read_csv('data/train_ver2.csv')\n",
    "tst = pd.read_csv('data/test_ver2.csv')"
   ]
  },
  {
   "cell_type": "code",
   "execution_count": 2,
   "metadata": {},
   "outputs": [
    {
     "name": "stderr",
     "output_type": "stream",
     "text": [
      "/home1/irteam/.pyenv/versions/3.6.4/envs/venv/lib/python3.6/site-packages/IPython/core/interactiveshell.py:2728: DtypeWarning: Columns (5,8,11,15) have mixed types. Specify dtype option on import or set low_memory=False.\n",
      "  interactivity=interactivity, compiler=compiler, result=result)\n",
      "/home1/irteam/.pyenv/versions/3.6.4/envs/venv/lib/python3.6/site-packages/IPython/core/interactiveshell.py:2728: DtypeWarning: Columns (15) have mixed types. Specify dtype option on import or set low_memory=False.\n",
      "  interactivity=interactivity, compiler=compiler, result=result)\n"
     ]
    }
   ],
   "source": [
    "import pandas as pd\n",
    "\n",
    "trn = pd.read_csv('data/train_ver2.csv')\n",
    "tst = pd.read_csv('data/test_ver2.csv')\n",
    "\n",
    "def check_unique_vals(trn, tst, col):\n",
    "    print('col   : ', col)\n",
    "    print('train : ', set(trn[col]))\n",
    "    print('test  : ', set(tst[col]))\n",
    "    print('non-overlap : ', set(trn[col]).symmetric_difference(set(tst[col])))\n",
    "    \n",
    "def preprocess(trn, tst, col, replace_nan='unk'):\n",
    "    # 'unk'로 결측값 대체\n",
    "    trn[col].fillna(replace_nan, inplace=True)\n",
    "\n",
    "    # LabelEncoder로 수치형 데이터로 변환\n",
    "    lb = LabelEncoder()\n",
    "    lb.fit(pd.concat([trn[col],tst[col]]))\n",
    "    trn[col] = lb.transform(trn[col])\n",
    "    tst[col] = lb.transform(tst[col])"
   ]
  },
  {
   "cell_type": "code",
   "execution_count": 3,
   "metadata": {},
   "outputs": [
    {
     "name": "stdout",
     "output_type": "stream",
     "text": [
      "col   :  fecha_dato\n",
      "train :  {'2015-01-28', '2015-05-28', '2015-07-28', '2016-01-28', '2015-10-28', '2015-02-28', '2015-08-28', '2016-02-28', '2015-03-28', '2015-09-28', '2015-12-28', '2015-04-28', '2016-05-28', '2016-04-28', '2015-06-28', '2016-03-28', '2015-11-28'}\n",
      "test  :  {'2016-06-28'}\n",
      "non-overlap :  {'2015-05-28', '2015-01-28', '2015-07-28', '2016-01-28', '2015-10-28', '2015-02-28', '2015-08-28', '2016-02-28', '2015-03-28', '2015-09-28', '2016-06-28', '2015-12-28', '2015-04-28', '2016-05-28', '2016-04-28', '2015-06-28', '2016-03-28', '2015-11-28'}\n"
     ]
    }
   ],
   "source": [
    "col = 'fecha_dato'\n",
    "check_unique_vals(trn, tst, col)"
   ]
  },
  {
   "cell_type": "code",
   "execution_count": 4,
   "metadata": {},
   "outputs": [
    {
     "name": "stdout",
     "output_type": "stream",
     "text": [
      "col   :  ind_empleado\n",
      "train :  {nan, 'A', 'F', 'B', 'S', 'N'}\n",
      "test  :  {'A', 'F', 'B', 'S', 'N'}\n",
      "non-overlap :  {nan}\n"
     ]
    }
   ],
   "source": [
    "col = 'ind_empleado'\n",
    "check_unique_vals(trn, tst, col)"
   ]
  },
  {
   "cell_type": "code",
   "execution_count": 8,
   "metadata": {},
   "outputs": [
    {
     "name": "stdout",
     "output_type": "stream",
     "text": [
      "col   :  ind_empleado\n",
      "train :  {0, 1, 2, 3, 4, 5}\n",
      "test  :  {0, 1, 2, 3, 4}\n",
      "non-overlap :  {5}\n"
     ]
    }
   ],
   "source": [
    "preprocess(trn, tst, col)\n",
    "check_unique_vals(trn, tst, col)"
   ]
  },
  {
   "cell_type": "code",
   "execution_count": null,
   "metadata": {},
   "outputs": [],
   "source": [
    "col = 'pais_residencia'\n",
    "check_unique_vals(trn, tst, col)"
   ]
  },
  {
   "cell_type": "code",
   "execution_count": null,
   "metadata": {},
   "outputs": [],
   "source": []
  }
 ],
 "metadata": {
  "kernelspec": {
   "display_name": "Python 3",
   "language": "python",
   "name": "python3"
  },
  "language_info": {
   "codemirror_mode": {
    "name": "ipython",
    "version": 3
   },
   "file_extension": ".py",
   "mimetype": "text/x-python",
   "name": "python",
   "nbconvert_exporter": "python",
   "pygments_lexer": "ipython3",
   "version": "3.6.4"
  }
 },
 "nbformat": 4,
 "nbformat_minor": 2
}
