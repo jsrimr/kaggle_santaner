{
 "cells": [
  {
   "cell_type": "code",
   "execution_count": 1,
   "metadata": {},
   "outputs": [],
   "source": [
    "import pandas as pd\n",
    "import numpy as np\n",
    "from sklearn.preprocessing import LabelEncoder"
   ]
  },
  {
   "cell_type": "code",
   "execution_count": 2,
   "metadata": {},
   "outputs": [
    {
     "name": "stdout",
     "output_type": "stream",
     "text": [
      "# Loading data..\n"
     ]
    },
    {
     "name": "stderr",
     "output_type": "stream",
     "text": [
      "/home1/irteam/.pyenv/versions/3.6.4/envs/venv/lib/python3.6/site-packages/IPython/core/interactiveshell.py:2728: DtypeWarning: Columns (5,8,11,15) have mixed types. Specify dtype option on import or set low_memory=False.\n",
      "  interactivity=interactivity, compiler=compiler, result=result)\n",
      "/home1/irteam/.pyenv/versions/3.6.4/envs/venv/lib/python3.6/site-packages/IPython/core/interactiveshell.py:2728: DtypeWarning: Columns (15) have mixed types. Specify dtype option on import or set low_memory=False.\n",
      "  interactivity=interactivity, compiler=compiler, result=result)\n"
     ]
    },
    {
     "name": "stdout",
     "output_type": "stream",
     "text": [
      "# trn shape : (38230, 24) | y shape : (38230,) | tst shape : (929615, 23)\n"
     ]
    }
   ],
   "source": [
    "TRN = 'data/train_ver2.csv'\n",
    "TST = 'data/test_ver2.csv'\n",
    "\n",
    "print('# Loading data..')\n",
    "target_cols = ['ind_ahor_fin_ult1', 'ind_aval_fin_ult1', 'ind_cco_fin_ult1', 'ind_cder_fin_ult1',\n",
    "               'ind_cno_fin_ult1', 'ind_ctju_fin_ult1', 'ind_ctma_fin_ult1', 'ind_ctop_fin_ult1',\n",
    "               'ind_ctpp_fin_ult1', 'ind_deco_fin_ult1', 'ind_deme_fin_ult1', 'ind_dela_fin_ult1',\n",
    "               'ind_ecue_fin_ult1', 'ind_fond_fin_ult1', 'ind_hip_fin_ult1', 'ind_plan_fin_ult1',\n",
    "               'ind_pres_fin_ult1', 'ind_reca_fin_ult1', 'ind_tjcr_fin_ult1', 'ind_valo_fin_ult1',\n",
    "               'ind_viv_fin_ult1', 'ind_nomina_ult1', 'ind_nom_pens_ult1', 'ind_recibo_ult1']\n",
    "\n",
    "# use 2015-06 data only\n",
    "trn = pd.read_csv(TRN, usecols=target_cols + ['fecha_dato', 'ncodpers'])\n",
    "trn_may = trn[trn['fecha_dato'] == '2015-05-28'].drop(['fecha_dato'], axis=1).set_index('ncodpers')\n",
    "trn_jun = trn[trn['fecha_dato'] == '2015-06-28'].drop(['fecha_dato'], axis=1).set_index('ncodpers')\n",
    "trn_may.columns = [col + '_may' for col in target_cols]\n",
    "trn_jun.columns = [col + '_jun' for col in target_cols]\n",
    "\n",
    "# calculating 'purchase' from 'possessions' by subtracting May target values from June, this is naive method\n",
    "labels = trn_jun.join(trn_may)\n",
    "labels.fillna(0, inplace=True)\n",
    "for col in target_cols:\n",
    "    labels[col] = labels[col + '_jun'] - labels[col + '_may']\n",
    "labels = labels[target_cols]\n",
    "index = labels[labels.sum(axis=1) > 0].index\n",
    "labels = labels.loc[index]\n",
    "\n",
    "trn = pd.read_csv(TRN)\n",
    "trn = trn[trn['fecha_dato'] == '2015-06-28'].set_index('ncodpers')\n",
    "trn = trn.loc[index]\n",
    "trn[target_cols] = labels\n",
    "\n",
    "del labels, index, trn_may, trn_jun\n",
    "\n",
    "# melt 24 classes into single multi-class\n",
    "trn_melt = []\n",
    "for _, row in trn.iterrows():\n",
    "    for i in range(24):\n",
    "        if row[23 + i] == 1:\n",
    "            temp = row[:23].values.tolist()\n",
    "            temp.append(i)\n",
    "            trn_melt.append(temp)\n",
    "trn = pd.DataFrame(np.asarray(trn_melt), columns=trn.columns.tolist()[:23] + ['target'])\n",
    "y = trn['target'].astype(int)\n",
    "\n",
    "# drop targets with too few frequency\n",
    "rem_targets = [23, 22, 2, 21, 18, 17, 4, 11, 12, 9, 6, 13, 7, 19, 8]\n",
    "trn = trn[y.isin(rem_targets)]\n",
    "y = y[y.isin(rem_targets)]\n",
    "y = LabelEncoder().fit_transform(y)\n",
    "\n",
    "tst = pd.read_csv(TST)\n",
    "tst.drop(['ncodpers'], axis=1, inplace=True)\n",
    "print('# trn shape : {} | y shape : {} | tst shape : {}'.format(trn.shape, y.shape, tst.shape))"
   ]
  },
  {
   "cell_type": "code",
   "execution_count": 4,
   "metadata": {},
   "outputs": [],
   "source": [
    "trn.to_csv('data/baseline.clean.trn.csv', index=False)\n",
    "tst.to_csv('data/baseline.clean.tst.csv', index=False)\n",
    "pd.DataFrame(y).to_csv('data/baseline.clean.y.csv', index=False)"
   ]
  },
  {
   "cell_type": "code",
   "execution_count": null,
   "metadata": {},
   "outputs": [],
   "source": []
  },
  {
   "cell_type": "code",
   "execution_count": null,
   "metadata": {},
   "outputs": [],
   "source": []
  }
 ],
 "metadata": {
  "kernelspec": {
   "display_name": "Python 3",
   "language": "python",
   "name": "python3"
  },
  "language_info": {
   "codemirror_mode": {
    "name": "ipython",
    "version": 3
   },
   "file_extension": ".py",
   "mimetype": "text/x-python",
   "name": "python",
   "nbconvert_exporter": "python",
   "pygments_lexer": "ipython3",
   "version": "3.6.4"
  }
 },
 "nbformat": 4,
 "nbformat_minor": 2
}
