{
 "cells": [
  {
   "cell_type": "markdown",
   "metadata": {},
   "source": [
    "## Baseline.Feature Engineering\n",
    "- datetime feature into int\n",
    "- LabelEncode categorical into numeric\n",
    "- create target column"
   ]
  },
  {
   "cell_type": "code",
   "execution_count": 1,
   "metadata": {},
   "outputs": [],
   "source": [
    "import pandas as pd\n",
    "import numpy as np\n",
    "\n",
    "trn = pd.read_csv('data/train_clean.csv')\n",
    "tst = pd.read_csv('data/test_clean.csv')"
   ]
  },
  {
   "cell_type": "code",
   "execution_count": 3,
   "metadata": {},
   "outputs": [],
   "source": [
    "# 날짜 데이터 정수형으로 변환하기\n",
    "\n",
    "col = 'fecha_alta'\n",
    "trn[col] = ((pd.to_datetime(trn['fecha_dato']) - pd.to_datetime(trn[col])) \n",
    "            / np.timedelta64(1,'D')).astype(int)\n",
    "tst[col] = ((pd.to_datetime(tst['fecha_dato']) - pd.to_datetime(tst[col]))\n",
    "            / np.timedelta64(1, 'D')).astype(int)\n",
    "\n",
    "col = 'ult_fec_cli_1t'\n",
    "trn[col] = ((pd.to_datetime(trn['fecha_dato']) - pd.to_datetime(trn[col])) \n",
    "            / np.timedelta64(1,'D')).astype(int)\n",
    "tst[col] = ((pd.to_datetime(tst['fecha_dato']) - pd.to_datetime(tst[col])) \n",
    "            / np.timedelta64(1,'D')).astype(int)"
   ]
  },
  {
   "cell_type": "code",
   "execution_count": 4,
   "metadata": {},
   "outputs": [],
   "source": [
    "# 날짜 데이터와 고객 고유 식별번호 삭제하기\n",
    "drop_cols = ['fecha_dato', 'ncodpers']\n",
    "trn = trn.drop(drop_cols, axis=1)\n",
    "tst = tst.drop(drop_cols, axis=1)"
   ]
  },
  {
   "cell_type": "code",
   "execution_count": 5,
   "metadata": {
    "scrolled": true
   },
   "outputs": [],
   "source": [
    "from sklearn.preprocessing import LabelEncoder\n",
    "\n",
    "# LabelEncoder를 사용하여 범주형 데이터를 수치형으로 변환하기\n",
    "for col in trn.columns:\n",
    "    if trn[col].dtype == 'object':\n",
    "        lb = LabelEncoder()\n",
    "        lb.fit(pd.concat([trn[col],tst[col]]))\n",
    "        trn[col] = lb.transform(trn[col])\n",
    "        tst[col] = lb.transform(tst[col])"
   ]
  },
  {
   "cell_type": "code",
   "execution_count": 6,
   "metadata": {
    "scrolled": true
   },
   "outputs": [
    {
     "name": "stdout",
     "output_type": "stream",
     "text": [
      "<class 'pandas.core.frame.DataFrame'>\n",
      "RangeIndex: 1155461 entries, 0 to 1155460\n",
      "Data columns (total 70 columns):\n",
      "ind_empleado                   1155461 non-null int64\n",
      "pais_residencia                1155461 non-null int64\n",
      "sexo                           1155461 non-null int64\n",
      "age                            1155461 non-null int64\n",
      "fecha_alta                     1155461 non-null int64\n",
      "ind_nuevo                      1155461 non-null int64\n",
      "antiguedad                     1155461 non-null int64\n",
      "indrel                         1155461 non-null int64\n",
      "ult_fec_cli_1t                 1155461 non-null int64\n",
      "indrel_1mes                    1155461 non-null int64\n",
      "tiprel_1mes                    1155461 non-null int64\n",
      "indresi                        1155461 non-null int64\n",
      "indext                         1155461 non-null int64\n",
      "conyuemp                       1155461 non-null int64\n",
      "canal_entrada                  1155461 non-null int64\n",
      "indfall                        1155461 non-null int64\n",
      "cod_prov                       1155461 non-null int64\n",
      "nomprov                        1155461 non-null int64\n",
      "ind_actividad_cliente          1155461 non-null int64\n",
      "renta                          1155461 non-null int64\n",
      "segmento                       1155461 non-null int64\n",
      "ind_ahor_fin_ult1              1155461 non-null int64\n",
      "ind_aval_fin_ult1              1155461 non-null int64\n",
      "ind_cco_fin_ult1               1155461 non-null int64\n",
      "ind_cder_fin_ult1              1155461 non-null int64\n",
      "ind_cno_fin_ult1               1155461 non-null int64\n",
      "ind_ctju_fin_ult1              1155461 non-null int64\n",
      "ind_ctma_fin_ult1              1155461 non-null int64\n",
      "ind_ctop_fin_ult1              1155461 non-null int64\n",
      "ind_ctpp_fin_ult1              1155461 non-null int64\n",
      "ind_deco_fin_ult1              1155461 non-null int64\n",
      "ind_deme_fin_ult1              1155461 non-null int64\n",
      "ind_dela_fin_ult1              1155461 non-null int64\n",
      "ind_ecue_fin_ult1              1155461 non-null int64\n",
      "ind_fond_fin_ult1              1155461 non-null int64\n",
      "ind_hip_fin_ult1               1155461 non-null int64\n",
      "ind_plan_fin_ult1              1155461 non-null int64\n",
      "ind_pres_fin_ult1              1155461 non-null int64\n",
      "ind_reca_fin_ult1              1155461 non-null int64\n",
      "ind_tjcr_fin_ult1              1155461 non-null int64\n",
      "ind_valo_fin_ult1              1155461 non-null int64\n",
      "ind_viv_fin_ult1               1155461 non-null int64\n",
      "ind_nomina_ult1                1155461 non-null int64\n",
      "ind_nom_pens_ult1              1155461 non-null int64\n",
      "ind_recibo_ult1                1155461 non-null int64\n",
      "ind_ahor_fin_ult1_purchased    1155461 non-null int64\n",
      "ind_aval_fin_ult1_purchased    1155461 non-null int64\n",
      "ind_cco_fin_ult1_purchased     1155461 non-null int64\n",
      "ind_cder_fin_ult1_purchased    1155461 non-null int64\n",
      "ind_cno_fin_ult1_purchased     1155461 non-null int64\n",
      "ind_ctju_fin_ult1_purchased    1155461 non-null int64\n",
      "ind_ctma_fin_ult1_purchased    1155461 non-null int64\n",
      "ind_ctop_fin_ult1_purchased    1155461 non-null int64\n",
      "ind_ctpp_fin_ult1_purchased    1155461 non-null int64\n",
      "ind_deco_fin_ult1_purchased    1155461 non-null int64\n",
      "ind_deme_fin_ult1_purchased    1155461 non-null int64\n",
      "ind_dela_fin_ult1_purchased    1155461 non-null int64\n",
      "ind_ecue_fin_ult1_purchased    1155461 non-null int64\n",
      "ind_fond_fin_ult1_purchased    1155461 non-null int64\n",
      "ind_hip_fin_ult1_purchased     1155461 non-null int64\n",
      "ind_plan_fin_ult1_purchased    1155461 non-null int64\n",
      "ind_pres_fin_ult1_purchased    1155461 non-null int64\n",
      "ind_reca_fin_ult1_purchased    1155461 non-null int64\n",
      "ind_tjcr_fin_ult1_purchased    1155461 non-null int64\n",
      "ind_valo_fin_ult1_purchased    1155461 non-null int64\n",
      "ind_viv_fin_ult1_purchased     1155461 non-null int64\n",
      "ind_nomina_ult1_purchased      1155461 non-null int64\n",
      "ind_nom_pens_ult1_purchased    1155461 non-null int64\n",
      "ind_recibo_ult1_purchased      1155461 non-null int64\n",
      "purchase_sum                   1155461 non-null int64\n",
      "dtypes: int64(70)\n",
      "memory usage: 617.1 MB\n"
     ]
    }
   ],
   "source": [
    "trn.info()"
   ]
  },
  {
   "cell_type": "code",
   "execution_count": 7,
   "metadata": {
    "scrolled": true
   },
   "outputs": [
    {
     "name": "stdout",
     "output_type": "stream",
     "text": [
      "<class 'pandas.core.frame.DataFrame'>\n",
      "RangeIndex: 929615 entries, 0 to 929614\n",
      "Data columns (total 21 columns):\n",
      "ind_empleado             929615 non-null int64\n",
      "pais_residencia          929615 non-null int64\n",
      "sexo                     929615 non-null int64\n",
      "age                      929615 non-null int64\n",
      "fecha_alta               929615 non-null int64\n",
      "ind_nuevo                929615 non-null int64\n",
      "antiguedad               929615 non-null int64\n",
      "indrel                   929615 non-null int64\n",
      "ult_fec_cli_1t           929615 non-null int64\n",
      "indrel_1mes              929615 non-null int64\n",
      "tiprel_1mes              929615 non-null int64\n",
      "indresi                  929615 non-null int64\n",
      "indext                   929615 non-null int64\n",
      "conyuemp                 929615 non-null int64\n",
      "canal_entrada            929615 non-null int64\n",
      "indfall                  929615 non-null int64\n",
      "cod_prov                 929615 non-null int64\n",
      "nomprov                  929615 non-null int64\n",
      "ind_actividad_cliente    929615 non-null int64\n",
      "renta                    929615 non-null int64\n",
      "segmento                 929615 non-null int64\n",
      "dtypes: int64(21)\n",
      "memory usage: 148.9 MB\n"
     ]
    }
   ],
   "source": [
    "tst.info()"
   ]
  },
  {
   "cell_type": "code",
   "execution_count": 11,
   "metadata": {},
   "outputs": [],
   "source": [
    "# # Test Data에 없는 변수 제거하기\n",
    "trn = trn[tst.columns.tolist() + [col for col in trn.columns if 'purchased' in col]]"
   ]
  },
  {
   "cell_type": "code",
   "execution_count": 12,
   "metadata": {},
   "outputs": [
    {
     "data": {
      "text/plain": [
       "(1155461, 45)"
      ]
     },
     "execution_count": 12,
     "metadata": {},
     "output_type": "execute_result"
    }
   ],
   "source": [
    "trn.shape"
   ]
  },
  {
   "cell_type": "code",
   "execution_count": 15,
   "metadata": {},
   "outputs": [],
   "source": [
    "# 신규 구매 변수를 target으로 변환하기\n",
    "data = []\n",
    "for _, row in trn.iterrows():\n",
    "    for i in range(24):\n",
    "        if row[21+i] == 1:\n",
    "            temp = row[:21].values.tolist()\n",
    "            temp.append(i)\n",
    "            data.append(temp)\n",
    "            \n",
    "cols = tst.columns.tolist()\n",
    "cols.append('target')\n",
    "trn = pd.DataFrame(data, columns = cols)"
   ]
  },
  {
   "cell_type": "code",
   "execution_count": 16,
   "metadata": {},
   "outputs": [],
   "source": [
    "# Feature Engineer _ baseline 데이터 저장하기\n",
    "trn.to_csv('data/train_feng.baseline.csv', index=False)\n",
    "tst.to_csv('data/test_feng.baseline.csv', index=False)"
   ]
  },
  {
   "cell_type": "code",
   "execution_count": 21,
   "metadata": {},
   "outputs": [],
   "source": [
    "tst.to_csv('data/test_feng.baseline.csv', index=False)"
   ]
  },
  {
   "cell_type": "code",
   "execution_count": 17,
   "metadata": {},
   "outputs": [
    {
     "data": {
      "text/html": [
       "<div>\n",
       "<style scoped>\n",
       "    .dataframe tbody tr th:only-of-type {\n",
       "        vertical-align: middle;\n",
       "    }\n",
       "\n",
       "    .dataframe tbody tr th {\n",
       "        vertical-align: top;\n",
       "    }\n",
       "\n",
       "    .dataframe thead th {\n",
       "        text-align: right;\n",
       "    }\n",
       "</style>\n",
       "<table border=\"1\" class=\"dataframe\">\n",
       "  <thead>\n",
       "    <tr style=\"text-align: right;\">\n",
       "      <th></th>\n",
       "      <th>ind_empleado</th>\n",
       "      <th>pais_residencia</th>\n",
       "      <th>sexo</th>\n",
       "      <th>age</th>\n",
       "      <th>fecha_alta</th>\n",
       "      <th>ind_nuevo</th>\n",
       "      <th>antiguedad</th>\n",
       "      <th>indrel</th>\n",
       "      <th>ult_fec_cli_1t</th>\n",
       "      <th>indrel_1mes</th>\n",
       "      <th>...</th>\n",
       "      <th>indext</th>\n",
       "      <th>conyuemp</th>\n",
       "      <th>canal_entrada</th>\n",
       "      <th>indfall</th>\n",
       "      <th>cod_prov</th>\n",
       "      <th>nomprov</th>\n",
       "      <th>ind_actividad_cliente</th>\n",
       "      <th>renta</th>\n",
       "      <th>segmento</th>\n",
       "      <th>target</th>\n",
       "    </tr>\n",
       "  </thead>\n",
       "  <tbody>\n",
       "    <tr>\n",
       "      <th>0</th>\n",
       "      <td>3</td>\n",
       "      <td>36</td>\n",
       "      <td>0</td>\n",
       "      <td>35</td>\n",
       "      <td>16</td>\n",
       "      <td>0</td>\n",
       "      <td>6</td>\n",
       "      <td>1</td>\n",
       "      <td>-153</td>\n",
       "      <td>1</td>\n",
       "      <td>...</td>\n",
       "      <td>0</td>\n",
       "      <td>2</td>\n",
       "      <td>153</td>\n",
       "      <td>0</td>\n",
       "      <td>29</td>\n",
       "      <td>31</td>\n",
       "      <td>1</td>\n",
       "      <td>87218</td>\n",
       "      <td>1</td>\n",
       "      <td>2</td>\n",
       "    </tr>\n",
       "    <tr>\n",
       "      <th>1</th>\n",
       "      <td>3</td>\n",
       "      <td>36</td>\n",
       "      <td>1</td>\n",
       "      <td>23</td>\n",
       "      <td>901</td>\n",
       "      <td>0</td>\n",
       "      <td>35</td>\n",
       "      <td>1</td>\n",
       "      <td>-153</td>\n",
       "      <td>1</td>\n",
       "      <td>...</td>\n",
       "      <td>1</td>\n",
       "      <td>2</td>\n",
       "      <td>150</td>\n",
       "      <td>0</td>\n",
       "      <td>13</td>\n",
       "      <td>16</td>\n",
       "      <td>0</td>\n",
       "      <td>35548</td>\n",
       "      <td>2</td>\n",
       "      <td>2</td>\n",
       "    </tr>\n",
       "    <tr>\n",
       "      <th>2</th>\n",
       "      <td>3</td>\n",
       "      <td>36</td>\n",
       "      <td>1</td>\n",
       "      <td>23</td>\n",
       "      <td>901</td>\n",
       "      <td>0</td>\n",
       "      <td>35</td>\n",
       "      <td>1</td>\n",
       "      <td>-153</td>\n",
       "      <td>1</td>\n",
       "      <td>...</td>\n",
       "      <td>0</td>\n",
       "      <td>2</td>\n",
       "      <td>150</td>\n",
       "      <td>0</td>\n",
       "      <td>13</td>\n",
       "      <td>16</td>\n",
       "      <td>0</td>\n",
       "      <td>122179</td>\n",
       "      <td>2</td>\n",
       "      <td>2</td>\n",
       "    </tr>\n",
       "    <tr>\n",
       "      <th>3</th>\n",
       "      <td>3</td>\n",
       "      <td>36</td>\n",
       "      <td>0</td>\n",
       "      <td>22</td>\n",
       "      <td>901</td>\n",
       "      <td>0</td>\n",
       "      <td>35</td>\n",
       "      <td>1</td>\n",
       "      <td>-153</td>\n",
       "      <td>1</td>\n",
       "      <td>...</td>\n",
       "      <td>0</td>\n",
       "      <td>2</td>\n",
       "      <td>149</td>\n",
       "      <td>0</td>\n",
       "      <td>50</td>\n",
       "      <td>51</td>\n",
       "      <td>0</td>\n",
       "      <td>119775</td>\n",
       "      <td>2</td>\n",
       "      <td>9</td>\n",
       "    </tr>\n",
       "    <tr>\n",
       "      <th>4</th>\n",
       "      <td>3</td>\n",
       "      <td>36</td>\n",
       "      <td>1</td>\n",
       "      <td>23</td>\n",
       "      <td>901</td>\n",
       "      <td>0</td>\n",
       "      <td>35</td>\n",
       "      <td>1</td>\n",
       "      <td>-153</td>\n",
       "      <td>1</td>\n",
       "      <td>...</td>\n",
       "      <td>0</td>\n",
       "      <td>2</td>\n",
       "      <td>150</td>\n",
       "      <td>0</td>\n",
       "      <td>50</td>\n",
       "      <td>51</td>\n",
       "      <td>1</td>\n",
       "      <td>0</td>\n",
       "      <td>2</td>\n",
       "      <td>2</td>\n",
       "    </tr>\n",
       "  </tbody>\n",
       "</table>\n",
       "<p>5 rows × 22 columns</p>\n",
       "</div>"
      ],
      "text/plain": [
       "   ind_empleado  pais_residencia  sexo  age  fecha_alta  ind_nuevo  \\\n",
       "0             3               36     0   35          16          0   \n",
       "1             3               36     1   23         901          0   \n",
       "2             3               36     1   23         901          0   \n",
       "3             3               36     0   22         901          0   \n",
       "4             3               36     1   23         901          0   \n",
       "\n",
       "   antiguedad  indrel  ult_fec_cli_1t  indrel_1mes   ...    indext  conyuemp  \\\n",
       "0           6       1            -153            1   ...         0         2   \n",
       "1          35       1            -153            1   ...         1         2   \n",
       "2          35       1            -153            1   ...         0         2   \n",
       "3          35       1            -153            1   ...         0         2   \n",
       "4          35       1            -153            1   ...         0         2   \n",
       "\n",
       "   canal_entrada  indfall  cod_prov  nomprov  ind_actividad_cliente   renta  \\\n",
       "0            153        0        29       31                      1   87218   \n",
       "1            150        0        13       16                      0   35548   \n",
       "2            150        0        13       16                      0  122179   \n",
       "3            149        0        50       51                      0  119775   \n",
       "4            150        0        50       51                      1       0   \n",
       "\n",
       "   segmento  target  \n",
       "0         1       2  \n",
       "1         2       2  \n",
       "2         2       2  \n",
       "3         2       9  \n",
       "4         2       2  \n",
       "\n",
       "[5 rows x 22 columns]"
      ]
     },
     "execution_count": 17,
     "metadata": {},
     "output_type": "execute_result"
    }
   ],
   "source": [
    "trn.head()"
   ]
  },
  {
   "cell_type": "code",
   "execution_count": 18,
   "metadata": {},
   "outputs": [
    {
     "name": "stdout",
     "output_type": "stream",
     "text": [
      "<class 'pandas.core.frame.DataFrame'>\n",
      "RangeIndex: 1778496 entries, 0 to 1778495\n",
      "Data columns (total 22 columns):\n",
      "ind_empleado             int64\n",
      "pais_residencia          int64\n",
      "sexo                     int64\n",
      "age                      int64\n",
      "fecha_alta               int64\n",
      "ind_nuevo                int64\n",
      "antiguedad               int64\n",
      "indrel                   int64\n",
      "ult_fec_cli_1t           int64\n",
      "indrel_1mes              int64\n",
      "tiprel_1mes              int64\n",
      "indresi                  int64\n",
      "indext                   int64\n",
      "conyuemp                 int64\n",
      "canal_entrada            int64\n",
      "indfall                  int64\n",
      "cod_prov                 int64\n",
      "nomprov                  int64\n",
      "ind_actividad_cliente    int64\n",
      "renta                    int64\n",
      "segmento                 int64\n",
      "target                   int64\n",
      "dtypes: int64(22)\n",
      "memory usage: 298.5 MB\n"
     ]
    }
   ],
   "source": [
    "trn.info()"
   ]
  },
  {
   "cell_type": "code",
   "execution_count": 20,
   "metadata": {},
   "outputs": [
    {
     "data": {
      "text/plain": [
       "ind_empleado             0\n",
       "pais_residencia          0\n",
       "sexo                     0\n",
       "age                      0\n",
       "fecha_alta               0\n",
       "ind_nuevo                0\n",
       "antiguedad               0\n",
       "indrel                   0\n",
       "ult_fec_cli_1t           0\n",
       "indrel_1mes              0\n",
       "tiprel_1mes              0\n",
       "indresi                  0\n",
       "indext                   0\n",
       "conyuemp                 0\n",
       "canal_entrada            0\n",
       "indfall                  0\n",
       "cod_prov                 0\n",
       "nomprov                  0\n",
       "ind_actividad_cliente    0\n",
       "renta                    0\n",
       "segmento                 0\n",
       "target                   0\n",
       "dtype: int64"
      ]
     },
     "execution_count": 20,
     "metadata": {},
     "output_type": "execute_result"
    }
   ],
   "source": [
    "trn.isnull().sum()"
   ]
  },
  {
   "cell_type": "code",
   "execution_count": 19,
   "metadata": {},
   "outputs": [
    {
     "name": "stdout",
     "output_type": "stream",
     "text": [
      "<class 'pandas.core.frame.DataFrame'>\n",
      "RangeIndex: 929615 entries, 0 to 929614\n",
      "Data columns (total 21 columns):\n",
      "ind_empleado             929615 non-null int64\n",
      "pais_residencia          929615 non-null int64\n",
      "sexo                     929615 non-null int64\n",
      "age                      929615 non-null int64\n",
      "fecha_alta               929615 non-null int64\n",
      "ind_nuevo                929615 non-null int64\n",
      "antiguedad               929615 non-null int64\n",
      "indrel                   929615 non-null int64\n",
      "ult_fec_cli_1t           929615 non-null int64\n",
      "indrel_1mes              929615 non-null int64\n",
      "tiprel_1mes              929615 non-null int64\n",
      "indresi                  929615 non-null int64\n",
      "indext                   929615 non-null int64\n",
      "conyuemp                 929615 non-null int64\n",
      "canal_entrada            929615 non-null int64\n",
      "indfall                  929615 non-null int64\n",
      "cod_prov                 929615 non-null int64\n",
      "nomprov                  929615 non-null int64\n",
      "ind_actividad_cliente    929615 non-null int64\n",
      "renta                    929615 non-null int64\n",
      "segmento                 929615 non-null int64\n",
      "dtypes: int64(21)\n",
      "memory usage: 148.9 MB\n"
     ]
    }
   ],
   "source": [
    "tst.info()"
   ]
  }
 ],
 "metadata": {
  "kernelspec": {
   "display_name": "Python 3",
   "language": "python",
   "name": "python3"
  },
  "language_info": {
   "codemirror_mode": {
    "name": "ipython",
    "version": 3
   },
   "file_extension": ".py",
   "mimetype": "text/x-python",
   "name": "python",
   "nbconvert_exporter": "python",
   "pygments_lexer": "ipython3",
   "version": "3.6.4"
  }
 },
 "nbformat": 4,
 "nbformat_minor": 2
}
