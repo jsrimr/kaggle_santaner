{
 "cells": [
  {
   "cell_type": "markdown",
   "metadata": {},
   "source": [
    "## ch 1-6\n",
    "- melt to sinlge in ML fit\n",
    "- train / dev / test split\n",
    "- ml fit\n",
    "- evaluate\n",
    "    - linear, tree, ensemble\n",
    "    - train / dev / test score\n",
    "- review + improvements\n",
    "- kweonwooj's submission\n",
    "- review + improvements\n",
    "\n",
    "## ch 1-7 승자의 지혜\n",
    "- winner's code #1\n",
    "\n",
    "- winner's code #2"
   ]
  },
  {
   "cell_type": "code",
   "execution_count": 9,
   "metadata": {},
   "outputs": [
    {
     "name": "stdout",
     "output_type": "stream",
     "text": [
      "# train only\t:  731162\n",
      "# test only\t:  929615\n",
      "# train & test\t:  715262\n"
     ]
    }
   ],
   "source": [
    "# 코드 1-26. Train, Test Data 고객 분포 살펴보기\n",
    "\n",
    "import pandas as pd\n",
    "\n",
    "trn = pd.read_csv('data/train_prep.csv')\n",
    "tst = pd.read_csv('data/test_ver2.csv')\n",
    "\n",
    "col = 'ncodpers'\n",
    "trn_users = trn[col]\n",
    "tst_users = tst[col]\n",
    "\n",
    "print('# train only\\t: ', len(set(trn_users)))\n",
    "print('# test only\\t: ', len(set(tst_users)))\n",
    "print('# train & test\\t: ', len(set(trn_users).intersection(set(tst_users))))"
   ]
  },
  {
   "cell_type": "code",
   "execution_count": null,
   "metadata": {},
   "outputs": [],
   "source": []
  },
  {
   "cell_type": "code",
   "execution_count": null,
   "metadata": {},
   "outputs": [],
   "source": [
    "import pandas as pd\n",
    "import numpy as np\n",
    "\n",
    "trn = pd.read_csv('data/train_preprocess.csv')"
   ]
  },
  {
   "cell_type": "code",
   "execution_count": null,
   "metadata": {},
   "outputs": [],
   "source": [
    "trn.shape"
   ]
  },
  {
   "cell_type": "code",
   "execution_count": null,
   "metadata": {},
   "outputs": [],
   "source": [
    "trn.head()"
   ]
  },
  {
   "cell_type": "code",
   "execution_count": null,
   "metadata": {},
   "outputs": [],
   "source": [
    "ncodpers = np.unique(trn['ncodpers'])"
   ]
  },
  {
   "cell_type": "code",
   "execution_count": null,
   "metadata": {},
   "outputs": [],
   "source": [
    "ncodpers.shape"
   ]
  },
  {
   "cell_type": "code",
   "execution_count": null,
   "metadata": {},
   "outputs": [],
   "source": [
    "from sklearn.model_selection import train_test_split"
   ]
  },
  {
   "cell_type": "code",
   "execution_count": null,
   "metadata": {},
   "outputs": [],
   "source": [
    "users_trn, users_dev = train_test_split(ncodpers, test_size = 0.2)"
   ]
  },
  {
   "cell_type": "code",
   "execution_count": null,
   "metadata": {},
   "outputs": [],
   "source": [
    "print(users_trn.shape, users_dev.shape)"
   ]
  },
  {
   "cell_type": "code",
   "execution_count": null,
   "metadata": {
    "scrolled": true
   },
   "outputs": [],
   "source": [
    "trn_idx = trn['ncodpers'].isin(users_trn)\n",
    "dev_idx = trn['ncodpers'].isin(users_dev)"
   ]
  },
  {
   "cell_type": "code",
   "execution_count": null,
   "metadata": {},
   "outputs": [],
   "source": [
    "x_trn = trn[trn_idx]\n",
    "x_dev = trn[dev_idx]"
   ]
  },
  {
   "cell_type": "code",
   "execution_count": null,
   "metadata": {},
   "outputs": [],
   "source": [
    "print(x_trn.shape, x_dev.shape)"
   ]
  },
  {
   "cell_type": "code",
   "execution_count": null,
   "metadata": {},
   "outputs": [],
   "source": []
  },
  {
   "cell_type": "code",
   "execution_count": null,
   "metadata": {},
   "outputs": [],
   "source": []
  }
 ],
 "metadata": {
  "kernelspec": {
   "display_name": "Python 3",
   "language": "python",
   "name": "python3"
  },
  "language_info": {
   "codemirror_mode": {
    "name": "ipython",
    "version": 3
   },
   "file_extension": ".py",
   "mimetype": "text/x-python",
   "name": "python",
   "nbconvert_exporter": "python",
   "pygments_lexer": "ipython3",
   "version": "3.6.4"
  }
 },
 "nbformat": 4,
 "nbformat_minor": 2
}
