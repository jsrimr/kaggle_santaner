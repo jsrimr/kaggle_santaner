{
 "cells": [
  {
   "cell_type": "code",
   "execution_count": 1,
   "metadata": {},
   "outputs": [],
   "source": [
    "# SUBMIT to Kaggle"
   ]
  },
  {
   "cell_type": "code",
   "execution_count": 6,
   "metadata": {},
   "outputs": [],
   "source": [
    "import pickle"
   ]
  },
  {
   "cell_type": "code",
   "execution_count": 2,
   "metadata": {},
   "outputs": [],
   "source": [
    "from datetime import datetime\n",
    "import os"
   ]
  },
  {
   "cell_type": "code",
   "execution_count": 3,
   "metadata": {},
   "outputs": [],
   "source": [
    "target_cols = ['ind_ahor_fin_ult1', 'ind_aval_fin_ult1', 'ind_cco_fin_ult1',\n",
    "                'ind_cder_fin_ult1', 'ind_cno_fin_ult1',  'ind_ctju_fin_ult1',\n",
    "                'ind_ctma_fin_ult1', 'ind_ctop_fin_ult1', 'ind_ctpp_fin_ult1',\n",
    "                'ind_deco_fin_ult1', 'ind_deme_fin_ult1', 'ind_dela_fin_ult1',\n",
    "                'ind_ecue_fin_ult1', 'ind_fond_fin_ult1', 'ind_hip_fin_ult1',\n",
    "                'ind_plan_fin_ult1', 'ind_pres_fin_ult1', 'ind_reca_fin_ult1',\n",
    "                'ind_tjcr_fin_ult1', 'ind_valo_fin_ult1', 'ind_viv_fin_ult1',\n",
    "                'ind_nomina_ult1',   'ind_nom_pens_ult1', 'ind_recibo_ult1']"
   ]
  },
  {
   "cell_type": "code",
   "execution_count": 31,
   "metadata": {},
   "outputs": [],
   "source": [
    "import zipfile"
   ]
  },
  {
   "cell_type": "code",
   "execution_count": 36,
   "metadata": {},
   "outputs": [],
   "source": [
    "def generate_submission(preds, fname):\n",
    "    final_preds = []\n",
    "    for pred in preds:\n",
    "        top_products = []\n",
    "        for i, product in enumerate(pred):\n",
    "            top_products.append(target_cols[product])\n",
    "            if i == 6:\n",
    "                break\n",
    "        final_preds.append(' '.join(top_products))\n",
    "\n",
    "    submission = pd.read_csv('data/test_ver2.csv', usecols=['ncodpers'])\n",
    "    submission['added_products'] = final_preds\n",
    "    file_name = datetime.now().strftime(\"{}_%Y%m%d_%H%M%S\".format(fname)) + '.csv'\n",
    "    file_name = os.path.join('output', file_name)\n",
    "    submission.to_csv(file_name, index=False)\n",
    "    \n",
    "    with zipfile.ZipFile(file_name + '.zip', \"w\", compression=zipfile.ZIP_DEFLATED) as zf:\n",
    "        zf.write(file_name)"
   ]
  },
  {
   "cell_type": "code",
   "execution_count": 5,
   "metadata": {},
   "outputs": [],
   "source": [
    "# generate submissions"
   ]
  },
  {
   "cell_type": "code",
   "execution_count": 7,
   "metadata": {},
   "outputs": [],
   "source": [
    "import pandas as pd\n",
    "import numpy as np\n",
    "\n",
    "tst = pd.read_csv('data/test_feng.baseline.csv')"
   ]
  },
  {
   "cell_type": "code",
   "execution_count": 38,
   "metadata": {},
   "outputs": [],
   "source": [
    "# generate dt_model submission\n",
    "model_name = 'dt-depth5-trn1.7828-dev1.8371'\n",
    "dt_model = pickle.load(open('model/{}.pkl'.format(model_name), 'rb'))\n",
    "preds = dt_model.predict_proba(tst)\n",
    "preds = np.fliplr(np.argsort(preds, axis=1))\n",
    "generate_submission(preds, model_name)"
   ]
  },
  {
   "cell_type": "code",
   "execution_count": 47,
   "metadata": {},
   "outputs": [],
   "source": [
    "# generate rf_model submission\n",
    "model_name = 'rf-depth10-trn1.7042-dev1.7341'\n",
    "rf_model = pickle.load(open('model/{}.pkl'.format(model_name), 'rb'))\n",
    "preds = rf_model.predict_proba(tst)\n",
    "preds = np.fliplr(np.argsort(preds, axis=1))\n",
    "generate_submission(preds, model_name)"
   ]
  },
  {
   "cell_type": "code",
   "execution_count": 48,
   "metadata": {},
   "outputs": [],
   "source": [
    "# generate et_model submission\n",
    "model_name = 'et-depth10-trn1.7914-dev1.7706'\n",
    "et_model = pickle.load(open('model/{}.pkl'.format(model_name), 'rb'))\n",
    "preds = et_model.predict_proba(tst)\n",
    "preds = np.fliplr(np.argsort(preds, axis=1))\n",
    "generate_submission(preds, model_name)"
   ]
  },
  {
   "cell_type": "code",
   "execution_count": null,
   "metadata": {},
   "outputs": [],
   "source": []
  },
  {
   "cell_type": "markdown",
   "metadata": {},
   "source": [
    "## score and ranking for baseline model \n",
    "\n",
    "| model | public | private | rank |\n",
    "| -- | :-: | :-: | :-: |\n",
    "| dt | 0.0171231 | 0.0173017 | 1304 |\n",
    "| rf | 0.0178976 | 0.0180743 | 1291 |\n",
    "| et | 0.0182222 | 0.0184081 | 1285 |"
   ]
  },
  {
   "cell_type": "code",
   "execution_count": null,
   "metadata": {},
   "outputs": [],
   "source": []
  },
  {
   "cell_type": "markdown",
   "metadata": {},
   "source": [
    "### how can we improve!?\n",
    "- read kernels/discussions to get ideas\n",
    "- error analysis"
   ]
  }
 ],
 "metadata": {
  "kernelspec": {
   "display_name": "Python 3",
   "language": "python",
   "name": "python3"
  },
  "language_info": {
   "codemirror_mode": {
    "name": "ipython",
    "version": 3
   },
   "file_extension": ".py",
   "mimetype": "text/x-python",
   "name": "python",
   "nbconvert_exporter": "python",
   "pygments_lexer": "ipython3",
   "version": "3.6.4"
  }
 },
 "nbformat": 4,
 "nbformat_minor": 2
}
