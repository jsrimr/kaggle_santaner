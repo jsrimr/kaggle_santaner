{
 "cells": [
  {
   "cell_type": "code",
   "execution_count": null,
   "metadata": {},
   "outputs": [],
   "source": [
    "countries = ['Korea', 'Korea', 'China', 'Korea', 'Japan', 'China']"
   ]
  },
  {
   "cell_type": "code",
   "execution_count": 7,
   "metadata": {},
   "outputs": [],
   "source": [
    "from sklearn.preprocessing import LabelEncoder"
   ]
  },
  {
   "cell_type": "code",
   "execution_count": null,
   "metadata": {},
   "outputs": [],
   "source": [
    "lb = LabelEncoder()\n",
    "lb.fit(countries)\n",
    "lb.transform(countries)"
   ]
  },
  {
   "cell_type": "code",
   "execution_count": null,
   "metadata": {},
   "outputs": [],
   "source": [
    "# 6명 선수의 국적\n",
    "countries = ['Korea', 'Korea', 'China', 'Korea', 'Japan', 'China']\n",
    "\n",
    "# LabelEncoder 불러오기\n",
    "from sklearn.preprocessing import LabelEncoder\n",
    "\n",
    "# LabelEncoder object 생성\n",
    "lb = LabelEncoder()\n",
    "# .fit()을 통해 범주형 데이터 고유값을 학습\n",
    "lb.fit(countries)\n",
    "# .transform()을 통해 수치형 데이터로 변환\n",
    "lb.transform(countries)"
   ]
  },
  {
   "cell_type": "code",
   "execution_count": null,
   "metadata": {},
   "outputs": [],
   "source": [
    "lb.classes_"
   ]
  },
  {
   "cell_type": "code",
   "execution_count": null,
   "metadata": {},
   "outputs": [],
   "source": [
    "semi_finalists = ['China', 'China', 'China', 'Korea']\n",
    "lb.transform(semi_finalists)"
   ]
  },
  {
   "cell_type": "code",
   "execution_count": null,
   "metadata": {},
   "outputs": [],
   "source": [
    "finalists = ['China', 'United States', 'China', 'Korea']\n",
    "lb.transform(finalists)"
   ]
  },
  {
   "cell_type": "code",
   "execution_count": null,
   "metadata": {},
   "outputs": [],
   "source": []
  },
  {
   "cell_type": "code",
   "execution_count": null,
   "metadata": {},
   "outputs": [],
   "source": [
    "df = pd.DataFrame(['Korea', 'Japan', float('nan')])\n",
    "df"
   ]
  },
  {
   "cell_type": "code",
   "execution_count": null,
   "metadata": {},
   "outputs": [],
   "source": [
    "df.fillna('Unknown')"
   ]
  },
  {
   "cell_type": "code",
   "execution_count": null,
   "metadata": {},
   "outputs": [],
   "source": []
  },
  {
   "cell_type": "code",
   "execution_count": null,
   "metadata": {},
   "outputs": [],
   "source": [
    "import numpy as np\n",
    "import pandas as pd\n",
    "\n",
    "trn = pd.read_csv('data/train_ver2.csv')\n",
    "tst = pd.read_csv('data/test_ver2.csv')"
   ]
  },
  {
   "cell_type": "code",
   "execution_count": 2,
   "metadata": {},
   "outputs": [
    {
     "name": "stderr",
     "output_type": "stream",
     "text": [
      "/home1/irteam/.pyenv/versions/3.6.4/envs/venv/lib/python3.6/site-packages/IPython/core/interactiveshell.py:2728: DtypeWarning: Columns (5,8,11,15) have mixed types. Specify dtype option on import or set low_memory=False.\n",
      "  interactivity=interactivity, compiler=compiler, result=result)\n",
      "/home1/irteam/.pyenv/versions/3.6.4/envs/venv/lib/python3.6/site-packages/IPython/core/interactiveshell.py:2728: DtypeWarning: Columns (15) have mixed types. Specify dtype option on import or set low_memory=False.\n",
      "  interactivity=interactivity, compiler=compiler, result=result)\n"
     ]
    }
   ],
   "source": [
    "import pandas as pd\n",
    "\n",
    "trn = pd.read_csv('data/train_ver2.csv')\n",
    "tst = pd.read_csv('data/test_ver2.csv')\n",
    "\n",
    "def check_unique_vals(trn, tst, col):\n",
    "    print('col   : ', col)\n",
    "    print('train : ', set(trn[col]))\n",
    "    print('test  : ', set(tst[col]))\n",
    "    print('non-overlap : ', set(trn[col]).symmetric_difference(set(tst[col])))\n",
    "    \n",
    "def preprocess(trn, tst, col, replace_nan='unk'):\n",
    "    # 'unk'로 결측값 대체\n",
    "    trn[col].fillna(replace_nan, inplace=True)\n",
    "    tst[col].fillna(replace_nan, inplace=True)\n",
    "\n",
    "    # LabelEncoder로 수치형 데이터로 변환\n",
    "    lb = LabelEncoder()\n",
    "    lb.fit(pd.concat([trn[col],tst[col]]))\n",
    "    trn[col] = lb.transform(trn[col])\n",
    "    tst[col] = lb.transform(tst[col])\n",
    "    return trn, tst"
   ]
  },
  {
   "cell_type": "code",
   "execution_count": 21,
   "metadata": {},
   "outputs": [
    {
     "name": "stdout",
     "output_type": "stream",
     "text": [
      "col   :  age\n",
      "train :  {' 93', ' 90', 2, 3, 4, 5, 6, 7, 8, 9, 10, 11, 12, 13, '105', 14, ' 36', 17, 18, 19, 16, 21, ' 41', 22, 23, 25, 26, 27, 28, 29, 30, 31, 32, ' 77', 34, 35, 36, 37, 38, 39, 40, 41, 42, 43, 44, 45, ' 84', ' 14', 46, 47, 48, 51, 50, 52, 54, 55, 49, ' 73', ' 68', ' 25', ' 35', ' 45', ' 52', '  3', '113', 59, 60, 67, 62, 69, 70, '  4', 63, 68, 74, 72, 76, ' 39', 77, 79, 80, 81, ' 47', 82, ' 98', 85, ' 28', 86, 88, 89, 84, 83, 90, 87, 94, 95, 93, 92, 98, 99, '115', ' 29', 97, 102, 20, 96, 104, 103, 106, 105, 110, 111, ' 59', 109, 108, 107, 113, 112, '109', 115, '110', 24, ' 83', 117, 116, 126, '  2', 127, ' 97', '106', ' 88', ' 16', ' 50', ' 51', '103', ' 32', '  7', '  5', 163, 164, '104', ' 92', 33, ' 58', ' 71', ' 15', ' 30', ' 55', '116', ' 69', ' 95', '107', ' 21', '  6', ' 72', ' 10', ' 91', ' 37', ' 22', ' 99', ' 81', ' 82', ' 20', ' 96', 53, ' 13', ' 74', 56, '108', '100', ' 66', 57, ' 12', ' 40', 58, ' 94', ' 62', ' 19', ' 60', 61, 114, '  8', ' 76', ' 26', 64, ' 79', ' 67', '102', ' 38', 65, 66, ' 23', ' 17', ' 80', 71, ' 24', ' 89', 73, ' 48', 75, ' 54', 15, ' 11', ' 53', 78, ' 63', ' 34', ' 87', ' 33', ' 42', ' 56', ' 57', ' 27', '112', ' 70', ' 31', ' 78', ' 61', ' 49', ' 65', ' 86', 91, ' 43', ' 46', ' 85', ' 44', ' 75', ' 64', '  9', '101', '111', ' NA', ' 18', 100, 101}\n",
      "test  :  {2, 3, 4, 5, 6, 7, 8, 9, 10, 11, 12, 13, 14, 15, 16, 17, 18, 19, 20, 21, 22, 23, 24, 25, 26, 27, 28, 29, 30, 31, 32, 33, 34, 35, 36, 37, 38, 39, 40, 41, 42, 43, 44, 45, 46, 47, 48, 49, 50, 51, 52, 53, 54, 55, 56, 57, 58, 59, 60, 61, 62, 63, 64, 65, 66, 67, 68, 69, 70, 71, 72, 73, 74, 75, 76, 77, 78, 79, 80, 81, 82, 83, 84, 85, 86, 87, 88, 89, 90, 91, 92, 93, 94, 95, 96, 97, 98, 99, 100, 101, 102, 103, 104, 105, 106, 107, 108, 109, 110, 111, 112, 113, 114, 116, 117, 118, 127, 164}\n",
      "non-overlap :  {' 93', ' 90', '105', ' 36', ' 41', ' 77', ' 14', ' 84', ' 68', ' 25', ' 35', '  3', '113', ' 45', ' 52', '  4', ' 39', ' 47', ' 98', ' 28', '115', ' 29', ' 59', 115, 118, '109', '110', ' 83', 126, '  2', ' 97', '106', ' 88', ' 16', ' 50', ' 51', '103', ' 32', '  7', '  5', 163, '104', ' 92', ' 58', ' 71', ' 15', ' 30', ' 55', '116', ' 69', ' 95', '107', ' 21', '  6', ' 72', ' 10', ' 91', ' 37', ' 22', ' 99', ' 81', ' 82', ' 20', ' 96', ' 13', ' 74', '108', '100', ' 66', ' 12', ' 40', ' 94', ' 62', ' 19', ' 60', '  8', ' 76', ' 26', ' 79', ' 67', '102', ' 38', ' 23', ' 17', ' 80', ' 24', ' 89', ' 48', ' 54', ' 11', ' 53', ' 63', ' 34', ' 87', ' 33', ' 42', ' 56', ' 57', ' 27', '112', ' 70', ' 31', ' 78', ' 61', ' 49', ' 65', ' 86', ' 43', ' 46', ' 85', ' 44', ' 75', ' 64', '  9', '101', '111', ' 73', ' NA', ' 18'}\n"
     ]
    }
   ],
   "source": [
    "col = 'age'\n",
    "check_unique_vals(trn, tst, col)"
   ]
  },
  {
   "cell_type": "code",
   "execution_count": 17,
   "metadata": {},
   "outputs": [
    {
     "name": "stdout",
     "output_type": "stream",
     "text": [
      "col   :  sexo\n",
      "train :  {0, 1, 2}\n",
      "test  :  {0, 1, 2}\n",
      "non-overlap :  set()\n"
     ]
    }
   ],
   "source": [
    "preprocess(trn, tst, col)\n",
    "check_unique_vals(trn, tst, col)"
   ]
  },
  {
   "cell_type": "code",
   "execution_count": null,
   "metadata": {},
   "outputs": [],
   "source": []
  },
  {
   "cell_type": "code",
   "execution_count": null,
   "metadata": {},
   "outputs": [],
   "source": [
    "col = 'fecha_dato'\n",
    "trn[col] = pd.to_datetime(trn[col])\n",
    "\n",
    "col = 'ind_empleado'\n",
    "preprocess(trn, tst, col)\n",
    "\n",
    "col = 'pais_residencia'\n",
    "preprocess(trn, tst, col)\n",
    "\n",
    "col = 'sexo'\n",
    "preprocess(trn, tst, col)\n",
    "\n",
    "col = 'fecha_alta'\n",
    "trn[col].fillna('2015-06-30', inplace=True)\n",
    "trn[col] = pd.to_datetime(trn[col])\n",
    "tst[col] = pd.to_datetime(tst[col])\n",
    "\n"
   ]
  }
 ],
 "metadata": {
  "kernelspec": {
   "display_name": "Python 3",
   "language": "python",
   "name": "python3"
  },
  "language_info": {
   "codemirror_mode": {
    "name": "ipython",
    "version": 3
   },
   "file_extension": ".py",
   "mimetype": "text/x-python",
   "name": "python",
   "nbconvert_exporter": "python",
   "pygments_lexer": "ipython3",
   "version": "3.6.4"
  }
 },
 "nbformat": 4,
 "nbformat_minor": 2
}
