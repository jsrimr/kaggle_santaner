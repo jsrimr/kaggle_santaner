{
 "cells": [
  {
   "cell_type": "code",
   "execution_count": 43,
   "metadata": {},
   "outputs": [],
   "source": [
    "import pandas as pd\n",
    "import numpy as np\n",
    "from sklearn.preprocessing import LabelEncoder\n",
    "\n",
    "np.random.seed(2018)"
   ]
  },
  {
   "cell_type": "code",
   "execution_count": 2,
   "metadata": {},
   "outputs": [
    {
     "name": "stderr",
     "output_type": "stream",
     "text": [
      "/home1/irteam/.pyenv/versions/3.6.4/envs/venv/lib/python3.6/site-packages/IPython/core/interactiveshell.py:2728: DtypeWarning: Columns (5,8,11,15) have mixed types. Specify dtype option on import or set low_memory=False.\n",
      "  interactivity=interactivity, compiler=compiler, result=result)\n"
     ]
    }
   ],
   "source": [
    "trn = pd.read_csv('data/train_ver2.csv')"
   ]
  },
  {
   "cell_type": "code",
   "execution_count": 3,
   "metadata": {},
   "outputs": [
    {
     "name": "stderr",
     "output_type": "stream",
     "text": [
      "/home1/irteam/.pyenv/versions/3.6.4/envs/venv/lib/python3.6/site-packages/IPython/core/interactiveshell.py:2728: DtypeWarning: Columns (15) have mixed types. Specify dtype option on import or set low_memory=False.\n",
      "  interactivity=interactivity, compiler=compiler, result=result)\n"
     ]
    }
   ],
   "source": [
    "tst = pd.read_csv('data/test_ver2.csv')"
   ]
  },
  {
   "cell_type": "code",
   "execution_count": 4,
   "metadata": {},
   "outputs": [],
   "source": [
    "use_dates = ['2015-05-28', '2015-06-28', '2016-05-28']"
   ]
  },
  {
   "cell_type": "code",
   "execution_count": 5,
   "metadata": {},
   "outputs": [],
   "source": [
    "trn = trn[trn['fecha_dato'].isin(use_dates)]"
   ]
  },
  {
   "cell_type": "code",
   "execution_count": null,
   "metadata": {},
   "outputs": [],
   "source": []
  },
  {
   "cell_type": "code",
   "execution_count": 6,
   "metadata": {},
   "outputs": [],
   "source": [
    "prods = trn.columns[24:].tolist()"
   ]
  },
  {
   "cell_type": "code",
   "execution_count": 7,
   "metadata": {},
   "outputs": [],
   "source": [
    "for col in trn.columns[24:]:\n",
    "    tst[col] = 0.0\n",
    "    \n",
    "# merge train and test\n",
    "df = pd.concat([trn, tst], axis=0)"
   ]
  },
  {
   "cell_type": "code",
   "execution_count": 8,
   "metadata": {},
   "outputs": [],
   "source": [
    "# fillna for target values\n",
    "df[prods] = df[prods].fillna(0.0).astype(np.int8)"
   ]
  },
  {
   "cell_type": "code",
   "execution_count": null,
   "metadata": {},
   "outputs": [],
   "source": []
  },
  {
   "cell_type": "code",
   "execution_count": 81,
   "metadata": {},
   "outputs": [],
   "source": [
    "features = []"
   ]
  },
  {
   "cell_type": "code",
   "execution_count": 84,
   "metadata": {},
   "outputs": [
    {
     "data": {
      "text/plain": [
       "['fecha_dato',\n",
       " 'ncodpers',\n",
       " 'ind_empleado',\n",
       " 'pais_residencia',\n",
       " 'sexo',\n",
       " 'age',\n",
       " 'fecha_alta',\n",
       " 'ind_nuevo',\n",
       " 'antiguedad',\n",
       " 'indrel',\n",
       " 'ult_fec_cli_1t',\n",
       " 'indrel_1mes',\n",
       " 'tiprel_1mes',\n",
       " 'indresi',\n",
       " 'indext',\n",
       " 'conyuemp',\n",
       " 'canal_entrada',\n",
       " 'indfall',\n",
       " 'tipodom',\n",
       " 'cod_prov',\n",
       " 'nomprov',\n",
       " 'ind_actividad_cliente',\n",
       " 'renta',\n",
       " 'segmento']"
      ]
     },
     "execution_count": 84,
     "metadata": {},
     "output_type": "execute_result"
    }
   ],
   "source": [
    "df.columns[:24].tolist()"
   ]
  },
  {
   "cell_type": "code",
   "execution_count": 10,
   "metadata": {},
   "outputs": [],
   "source": [
    "# data cleaning\n",
    "categorical_cols = ['ind_empleado', 'pais_residencia', 'sexo', 'tiprel_1mes', 'indresi', 'indext', 'conyuemp', \n",
    "                'canal_entrada', 'indfall', 'tipodom', 'nomprov', 'segmento']\n",
    "\n",
    "for col in categorical_cols:\n",
    "    df[col], _ = df[col].factorize(na_sentinel=-99)\n",
    "    \n",
    "features += categorical_cols"
   ]
  },
  {
   "cell_type": "code",
   "execution_count": 11,
   "metadata": {},
   "outputs": [],
   "source": [
    "df['age'].replace(' NA', -99, inplace=True)\n",
    "df['age'] = df['age'].astype(np.int8)\n",
    "\n",
    "df['antiguedad'].replace('     NA', -99, inplace=True)\n",
    "df['antiguedad'] = df['antiguedad'].astype(np.int8)\n",
    "\n",
    "df['renta'].replace('         NA', -99, inplace=True)\n",
    "df['renta'].fillna(-99, inplace=True)\n",
    "df['renta'] = df['renta'].astype(float).astype(np.int8)\n",
    "\n",
    "features += ['age','antiguedad','renta','ind_nuevo','indrel','indrel_1mes','ind_actividad_cliente']"
   ]
  },
  {
   "cell_type": "code",
   "execution_count": 12,
   "metadata": {},
   "outputs": [],
   "source": [
    "df['fecha_alta_month'] = df['fecha_alta'].map(lambda x: 0.0 if x.__class__ is float else float(x.split('-')[1])).astype(np.int8)\n",
    "df['fecha_alta_year'] = df['fecha_alta'].map(lambda x: 0.0 if x.__class__ is float else float(x.split('-')[0])).astype(np.int16)\n",
    "features += ['fecha_alta_month', 'fecha_alta_year']\n",
    "\n",
    "df['ult_fec_cli_1t_month'] = df['ult_fec_cli_1t'].map(lambda x: 0.0 if x.__class__ is float else float(x.split('-')[1])).astype(np.int8)\n",
    "df['ult_fec_cli_1t_year'] = df['ult_fec_cli_1t'].map(lambda x: 0.0 if x.__class__ is float else float(x.split('-')[0])).astype(np.int16)\n",
    "features += ['ult_fec_cli_1t_month', 'ult_fec_cli_1t_year']"
   ]
  },
  {
   "cell_type": "code",
   "execution_count": 14,
   "metadata": {},
   "outputs": [],
   "source": [
    "df.fillna(-99, inplace=True)"
   ]
  },
  {
   "cell_type": "code",
   "execution_count": null,
   "metadata": {},
   "outputs": [],
   "source": []
  },
  {
   "cell_type": "code",
   "execution_count": null,
   "metadata": {},
   "outputs": [],
   "source": []
  },
  {
   "cell_type": "code",
   "execution_count": null,
   "metadata": {},
   "outputs": [],
   "source": []
  },
  {
   "cell_type": "code",
   "execution_count": null,
   "metadata": {},
   "outputs": [],
   "source": []
  },
  {
   "cell_type": "code",
   "execution_count": null,
   "metadata": {},
   "outputs": [],
   "source": []
  },
  {
   "cell_type": "code",
   "execution_count": null,
   "metadata": {},
   "outputs": [],
   "source": [
    "df['fecha_dato'].unique()"
   ]
  },
  {
   "cell_type": "code",
   "execution_count": 16,
   "metadata": {},
   "outputs": [],
   "source": [
    "def date_to_int(str_date):\n",
    "    Y, M, D = [int(a) for a in str_date.strip().split(\"-\")] # \"2016-05-28\"\n",
    "    int_date = (int(Y) - 2015) * 12 + int(M)\n",
    "    return int_date\n",
    "\n",
    "df['int_date'] = df['fecha_dato'].map(date_to_int).astype(np.int8)"
   ]
  },
  {
   "cell_type": "code",
   "execution_count": 17,
   "metadata": {},
   "outputs": [],
   "source": [
    "df.loc[df['fecha_dato'] == '2015-05-28', 'int_date'] += 1"
   ]
  },
  {
   "cell_type": "code",
   "execution_count": 18,
   "metadata": {},
   "outputs": [],
   "source": [
    "df.loc[df['fecha_dato'] == '2016-05-28', 'int_date'] += 1"
   ]
  },
  {
   "cell_type": "code",
   "execution_count": 19,
   "metadata": {},
   "outputs": [
    {
     "data": {
      "text/plain": [
       "int_date               6\n",
       "fecha_dato    2015-05-28\n",
       "Name: 2612427, dtype: object"
      ]
     },
     "execution_count": 19,
     "metadata": {},
     "output_type": "execute_result"
    }
   ],
   "source": [
    "df[['int_date','fecha_dato']].iloc[100000]"
   ]
  },
  {
   "cell_type": "code",
   "execution_count": 20,
   "metadata": {},
   "outputs": [],
   "source": [
    "df_june = df[df['fecha_dato'].isin(['2015-06-28', '2016-06-28'])]"
   ]
  },
  {
   "cell_type": "code",
   "execution_count": 21,
   "metadata": {},
   "outputs": [
    {
     "data": {
      "text/plain": [
       "(1561725, 53)"
      ]
     },
     "execution_count": 21,
     "metadata": {},
     "output_type": "execute_result"
    }
   ],
   "source": [
    "df_june.shape"
   ]
  },
  {
   "cell_type": "code",
   "execution_count": 22,
   "metadata": {},
   "outputs": [],
   "source": [
    "df_may = df[df['fecha_dato'].isin(['2015-05-28', '2016-05-28'])]"
   ]
  },
  {
   "cell_type": "code",
   "execution_count": 23,
   "metadata": {},
   "outputs": [],
   "source": [
    "df_may.columns = [col + '_prev' if col not in ['ncodpers', 'int_date'] else col for col in df_may.columns ]"
   ]
  },
  {
   "cell_type": "code",
   "execution_count": 24,
   "metadata": {},
   "outputs": [
    {
     "data": {
      "text/html": [
       "<div>\n",
       "<style scoped>\n",
       "    .dataframe tbody tr th:only-of-type {\n",
       "        vertical-align: middle;\n",
       "    }\n",
       "\n",
       "    .dataframe tbody tr th {\n",
       "        vertical-align: top;\n",
       "    }\n",
       "\n",
       "    .dataframe thead th {\n",
       "        text-align: right;\n",
       "    }\n",
       "</style>\n",
       "<table border=\"1\" class=\"dataframe\">\n",
       "  <thead>\n",
       "    <tr style=\"text-align: right;\">\n",
       "      <th></th>\n",
       "      <th>fecha_dato_prev</th>\n",
       "      <th>ncodpers</th>\n",
       "      <th>ind_empleado_prev</th>\n",
       "      <th>pais_residencia_prev</th>\n",
       "      <th>sexo_prev</th>\n",
       "      <th>age_prev</th>\n",
       "      <th>fecha_alta_prev</th>\n",
       "      <th>ind_nuevo_prev</th>\n",
       "      <th>antiguedad_prev</th>\n",
       "      <th>indrel_prev</th>\n",
       "      <th>...</th>\n",
       "      <th>ind_valo_fin_ult1_prev</th>\n",
       "      <th>ind_viv_fin_ult1_prev</th>\n",
       "      <th>ind_nomina_ult1_prev</th>\n",
       "      <th>ind_nom_pens_ult1_prev</th>\n",
       "      <th>ind_recibo_ult1_prev</th>\n",
       "      <th>fecha_alta_month_prev</th>\n",
       "      <th>fecha_alta_year_prev</th>\n",
       "      <th>ult_fec_cli_1t_month_prev</th>\n",
       "      <th>ult_fec_cli_1t_year_prev</th>\n",
       "      <th>int_date</th>\n",
       "    </tr>\n",
       "  </thead>\n",
       "  <tbody>\n",
       "    <tr>\n",
       "      <th>2512427</th>\n",
       "      <td>2015-05-28</td>\n",
       "      <td>1061260</td>\n",
       "      <td>0</td>\n",
       "      <td>0</td>\n",
       "      <td>0</td>\n",
       "      <td>24</td>\n",
       "      <td>2012-09-17</td>\n",
       "      <td>0.0</td>\n",
       "      <td>34</td>\n",
       "      <td>1.0</td>\n",
       "      <td>...</td>\n",
       "      <td>0</td>\n",
       "      <td>0</td>\n",
       "      <td>0</td>\n",
       "      <td>0</td>\n",
       "      <td>0</td>\n",
       "      <td>9</td>\n",
       "      <td>2012</td>\n",
       "      <td>0</td>\n",
       "      <td>0</td>\n",
       "      <td>6</td>\n",
       "    </tr>\n",
       "    <tr>\n",
       "      <th>2512428</th>\n",
       "      <td>2015-05-28</td>\n",
       "      <td>1061283</td>\n",
       "      <td>0</td>\n",
       "      <td>0</td>\n",
       "      <td>0</td>\n",
       "      <td>22</td>\n",
       "      <td>2012-09-17</td>\n",
       "      <td>0.0</td>\n",
       "      <td>34</td>\n",
       "      <td>1.0</td>\n",
       "      <td>...</td>\n",
       "      <td>0</td>\n",
       "      <td>0</td>\n",
       "      <td>0</td>\n",
       "      <td>0</td>\n",
       "      <td>0</td>\n",
       "      <td>9</td>\n",
       "      <td>2012</td>\n",
       "      <td>0</td>\n",
       "      <td>0</td>\n",
       "      <td>6</td>\n",
       "    </tr>\n",
       "    <tr>\n",
       "      <th>2512429</th>\n",
       "      <td>2015-05-28</td>\n",
       "      <td>1061284</td>\n",
       "      <td>0</td>\n",
       "      <td>0</td>\n",
       "      <td>0</td>\n",
       "      <td>24</td>\n",
       "      <td>2012-09-17</td>\n",
       "      <td>0.0</td>\n",
       "      <td>34</td>\n",
       "      <td>1.0</td>\n",
       "      <td>...</td>\n",
       "      <td>0</td>\n",
       "      <td>0</td>\n",
       "      <td>0</td>\n",
       "      <td>0</td>\n",
       "      <td>0</td>\n",
       "      <td>9</td>\n",
       "      <td>2012</td>\n",
       "      <td>0</td>\n",
       "      <td>0</td>\n",
       "      <td>6</td>\n",
       "    </tr>\n",
       "    <tr>\n",
       "      <th>2512430</th>\n",
       "      <td>2015-05-28</td>\n",
       "      <td>1061336</td>\n",
       "      <td>0</td>\n",
       "      <td>0</td>\n",
       "      <td>0</td>\n",
       "      <td>23</td>\n",
       "      <td>2012-09-17</td>\n",
       "      <td>0.0</td>\n",
       "      <td>34</td>\n",
       "      <td>1.0</td>\n",
       "      <td>...</td>\n",
       "      <td>0</td>\n",
       "      <td>0</td>\n",
       "      <td>0</td>\n",
       "      <td>0</td>\n",
       "      <td>0</td>\n",
       "      <td>9</td>\n",
       "      <td>2012</td>\n",
       "      <td>0</td>\n",
       "      <td>0</td>\n",
       "      <td>6</td>\n",
       "    </tr>\n",
       "    <tr>\n",
       "      <th>2512431</th>\n",
       "      <td>2015-05-28</td>\n",
       "      <td>1061286</td>\n",
       "      <td>0</td>\n",
       "      <td>0</td>\n",
       "      <td>1</td>\n",
       "      <td>29</td>\n",
       "      <td>2012-09-17</td>\n",
       "      <td>0.0</td>\n",
       "      <td>34</td>\n",
       "      <td>1.0</td>\n",
       "      <td>...</td>\n",
       "      <td>0</td>\n",
       "      <td>0</td>\n",
       "      <td>0</td>\n",
       "      <td>0</td>\n",
       "      <td>0</td>\n",
       "      <td>9</td>\n",
       "      <td>2012</td>\n",
       "      <td>0</td>\n",
       "      <td>0</td>\n",
       "      <td>6</td>\n",
       "    </tr>\n",
       "  </tbody>\n",
       "</table>\n",
       "<p>5 rows × 53 columns</p>\n",
       "</div>"
      ],
      "text/plain": [
       "        fecha_dato_prev  ncodpers  ind_empleado_prev  pais_residencia_prev  \\\n",
       "2512427      2015-05-28   1061260                  0                     0   \n",
       "2512428      2015-05-28   1061283                  0                     0   \n",
       "2512429      2015-05-28   1061284                  0                     0   \n",
       "2512430      2015-05-28   1061336                  0                     0   \n",
       "2512431      2015-05-28   1061286                  0                     0   \n",
       "\n",
       "         sexo_prev  age_prev fecha_alta_prev  ind_nuevo_prev  antiguedad_prev  \\\n",
       "2512427          0        24      2012-09-17             0.0               34   \n",
       "2512428          0        22      2012-09-17             0.0               34   \n",
       "2512429          0        24      2012-09-17             0.0               34   \n",
       "2512430          0        23      2012-09-17             0.0               34   \n",
       "2512431          1        29      2012-09-17             0.0               34   \n",
       "\n",
       "         indrel_prev    ...    ind_valo_fin_ult1_prev ind_viv_fin_ult1_prev  \\\n",
       "2512427          1.0    ...                         0                     0   \n",
       "2512428          1.0    ...                         0                     0   \n",
       "2512429          1.0    ...                         0                     0   \n",
       "2512430          1.0    ...                         0                     0   \n",
       "2512431          1.0    ...                         0                     0   \n",
       "\n",
       "         ind_nomina_ult1_prev  ind_nom_pens_ult1_prev  ind_recibo_ult1_prev  \\\n",
       "2512427                     0                       0                     0   \n",
       "2512428                     0                       0                     0   \n",
       "2512429                     0                       0                     0   \n",
       "2512430                     0                       0                     0   \n",
       "2512431                     0                       0                     0   \n",
       "\n",
       "         fecha_alta_month_prev  fecha_alta_year_prev  \\\n",
       "2512427                      9                  2012   \n",
       "2512428                      9                  2012   \n",
       "2512429                      9                  2012   \n",
       "2512430                      9                  2012   \n",
       "2512431                      9                  2012   \n",
       "\n",
       "         ult_fec_cli_1t_month_prev  ult_fec_cli_1t_year_prev  int_date  \n",
       "2512427                          0                         0         6  \n",
       "2512428                          0                         0         6  \n",
       "2512429                          0                         0         6  \n",
       "2512430                          0                         0         6  \n",
       "2512431                          0                         0         6  \n",
       "\n",
       "[5 rows x 53 columns]"
      ]
     },
     "execution_count": 24,
     "metadata": {},
     "output_type": "execute_result"
    }
   ],
   "source": [
    "df_may.head()"
   ]
  },
  {
   "cell_type": "code",
   "execution_count": 25,
   "metadata": {},
   "outputs": [],
   "source": [
    "df_trn = df_june.merge(df_may, on=['ncodpers','int_date'], how='left')"
   ]
  },
  {
   "cell_type": "code",
   "execution_count": 26,
   "metadata": {},
   "outputs": [
    {
     "data": {
      "text/plain": [
       "(1561725, 104)"
      ]
     },
     "execution_count": 26,
     "metadata": {},
     "output_type": "execute_result"
    }
   ],
   "source": [
    "df_trn.shape"
   ]
  },
  {
   "cell_type": "code",
   "execution_count": 89,
   "metadata": {},
   "outputs": [],
   "source": [
    "features += [feature + '_prev' for feature in features]"
   ]
  },
  {
   "cell_type": "code",
   "execution_count": 90,
   "metadata": {},
   "outputs": [],
   "source": [
    "features += [prod + '_prev' for prod in prods]"
   ]
  },
  {
   "cell_type": "code",
   "execution_count": null,
   "metadata": {},
   "outputs": [],
   "source": []
  },
  {
   "cell_type": "code",
   "execution_count": null,
   "metadata": {},
   "outputs": [],
   "source": []
  },
  {
   "cell_type": "code",
   "execution_count": 28,
   "metadata": {},
   "outputs": [
    {
     "data": {
      "text/plain": [
       "array(['2015-06-28', '2016-06-28'], dtype=object)"
      ]
     },
     "execution_count": 28,
     "metadata": {},
     "output_type": "execute_result"
    }
   ],
   "source": [
    "df_trn['fecha_dato'].unique()"
   ]
  },
  {
   "cell_type": "code",
   "execution_count": 29,
   "metadata": {},
   "outputs": [],
   "source": [
    "trn = df_trn[df_trn['fecha_dato'] == '2015-06-28']\n",
    "tst = df_trn[df_trn['fecha_dato'] == '2016-06-28']"
   ]
  },
  {
   "cell_type": "code",
   "execution_count": 30,
   "metadata": {},
   "outputs": [
    {
     "data": {
      "text/plain": [
       "((632110, 104), (929615, 104))"
      ]
     },
     "execution_count": 30,
     "metadata": {},
     "output_type": "execute_result"
    }
   ],
   "source": [
    "trn.shape, tst.shape"
   ]
  },
  {
   "cell_type": "code",
   "execution_count": 32,
   "metadata": {},
   "outputs": [],
   "source": [
    "X = []\n",
    "Y = []\n",
    "for i, prod in enumerate(prods):\n",
    "    prev = prod + '_prev'\n",
    "    prX = trn[(trn[prod] == 1) & (trn[prev] == 0)]\n",
    "    prY = np.zeros(prX.shape[0], dtype=np.int8) + i\n",
    "    X.append(prX)\n",
    "    Y.append(prY)"
   ]
  },
  {
   "cell_type": "code",
   "execution_count": 39,
   "metadata": {},
   "outputs": [],
   "source": [
    "X = pd.concat(X)"
   ]
  },
  {
   "cell_type": "code",
   "execution_count": 40,
   "metadata": {},
   "outputs": [],
   "source": [
    "Y = np.hstack(Y)"
   ]
  },
  {
   "cell_type": "code",
   "execution_count": 45,
   "metadata": {},
   "outputs": [],
   "source": [
    "X['y'] = Y"
   ]
  },
  {
   "cell_type": "code",
   "execution_count": 48,
   "metadata": {},
   "outputs": [],
   "source": [
    "mask = np.random.rand(len(X)) < 0.9\n",
    "x_trn = X[mask]\n",
    "x_tst = X[~mask]\n",
    "\n",
    "mask = np.random.rand(len(x_trn)) < 0.9\n",
    "x_vld = x_trn[~mask]\n",
    "x_trn = x_trn[mask]"
   ]
  },
  {
   "cell_type": "code",
   "execution_count": null,
   "metadata": {},
   "outputs": [],
   "source": []
  },
  {
   "cell_type": "code",
   "execution_count": 50,
   "metadata": {},
   "outputs": [],
   "source": [
    "ncodpers_tst = x_tst.as_matrix(columns=['ncodpers'])"
   ]
  },
  {
   "cell_type": "code",
   "execution_count": 51,
   "metadata": {},
   "outputs": [
    {
     "name": "stderr",
     "output_type": "stream",
     "text": [
      "/home1/irteam/.pyenv/versions/3.6.4/envs/venv/lib/python3.6/site-packages/ipykernel_launcher.py:4: SettingWithCopyWarning: \n",
      "A value is trying to be set on a copy of a slice from a DataFrame.\n",
      "Try using .loc[row_indexer,col_indexer] = value instead\n",
      "\n",
      "See the caveats in the documentation: http://pandas.pydata.org/pandas-docs/stable/indexing.html#indexing-view-versus-copy\n",
      "  after removing the cwd from sys.path.\n"
     ]
    }
   ],
   "source": [
    "for prod in prods:\n",
    "    prev = prod + '_prev'\n",
    "    padd = prod + '_add'\n",
    "    x_tst[padd] = x_tst[prod] - x_tst[prev]"
   ]
  },
  {
   "cell_type": "code",
   "execution_count": 57,
   "metadata": {},
   "outputs": [],
   "source": [
    "add_tst = x_tst.as_matrix(columns=[prod + '_add' for prod in prods])\n",
    "add_tst_list = [list() for i in range(len(ncodpers_tst))]"
   ]
  },
  {
   "cell_type": "code",
   "execution_count": 59,
   "metadata": {},
   "outputs": [],
   "source": [
    "count_tst = 0\n",
    "for ncodper in range(len(ncodpers_tst)):\n",
    "    for prod in range(len(prods)):\n",
    "        if add_tst[ncodper, prod] > 0:\n",
    "            add_tst_list[ncodper].append(prod)\n",
    "            count_tst += 1"
   ]
  },
  {
   "cell_type": "code",
   "execution_count": 64,
   "metadata": {},
   "outputs": [
    {
     "data": {
      "text/plain": [
       "1.0"
      ]
     },
     "execution_count": 64,
     "metadata": {},
     "output_type": "execute_result"
    }
   ],
   "source": [
    "mapk(add_tst_list, add_tst_list, 7, 0.0)"
   ]
  },
  {
   "cell_type": "code",
   "execution_count": 63,
   "metadata": {},
   "outputs": [],
   "source": [
    "import numpy as np\n",
    "\n",
    "def apk(actual, predicted, k=7, default=0.0):\n",
    "    # MAP@7 이므로, 최대 7개만 사용한다\n",
    "    if len(predicted) > k:\n",
    "        predicted = predicted[:k]\n",
    "\n",
    "    score = 0.0\n",
    "    num_hits = 0.0\n",
    "\n",
    "    for i, p in enumerate(predicted):\n",
    "        # 점수를 부여하는 조건은 다음과 같다 :\n",
    "        # 예측값이 정답에 있고 (‘p in actual’)\n",
    "        # 예측값이 중복이 아니면 (‘p not in predicted[:i]’) \n",
    "        if p in actual and p not in predicted[:i]:\n",
    "            num_hits += 1.0\n",
    "            score += num_hits / (i+1.0)\n",
    "\n",
    "    # 정답값이 공백일 경우, 무조건 1.0점을 반환한다\n",
    "    if not actual:\n",
    "        return default\n",
    "\n",
    "    # 정답의 개수(len(actual))로 average precision을 구한다\n",
    "    return score / min(len(actual), k)\n",
    "\n",
    "def mapk(actual, predicted, k=7, default=0.0):\n",
    "    # list of list인 정답값(actual)과 예측값(predicted)에서 고객별 Average Precision을 구하고, np.mean()을 통해 평균을 계산한다\n",
    "    return np.mean([apk(a, p, k, default) for a, p in zip(actual, predicted)])"
   ]
  },
  {
   "cell_type": "code",
   "execution_count": null,
   "metadata": {},
   "outputs": [],
   "source": []
  },
  {
   "cell_type": "code",
   "execution_count": 68,
   "metadata": {},
   "outputs": [],
   "source": [
    "import xgboost as xgb\n",
    "\n",
    "param = {\n",
    "    'booster': 'gbtree',\n",
    "    'max_depth': 8,\n",
    "    'nthread': 4,\n",
    "    'num_class': len(prods),\n",
    "    'objective': 'multi:softprob',\n",
    "    'silent': 1,\n",
    "    'eval_metric': 'mlogloss',\n",
    "    'eta': 0.1,\n",
    "    'min_child_weight': 10,\n",
    "    'colsample_bytree': 0.8,\n",
    "    'colsample_bylevel': 0.9,\n",
    "    'seed': 2018,\n",
    "    }"
   ]
  },
  {
   "cell_type": "code",
   "execution_count": null,
   "metadata": {},
   "outputs": [],
   "source": []
  },
  {
   "cell_type": "code",
   "execution_count": 94,
   "metadata": {},
   "outputs": [],
   "source": [
    "X_trn = x_trn.as_matrix(columns=features)\n",
    "Y_trn = x_trn.as_matrix(columns=['y'])\n",
    "trn = xgb.DMatrix(X_trn, label=Y_trn, feature_names=features)"
   ]
  },
  {
   "cell_type": "code",
   "execution_count": 95,
   "metadata": {},
   "outputs": [],
   "source": [
    "X_vld = x_vld.as_matrix(columns=features)\n",
    "Y_vld = x_vld.as_matrix(columns=['y'])\n",
    "vld = xgb.DMatrix(X_vld, label=Y_vld, feature_names=features)"
   ]
  },
  {
   "cell_type": "code",
   "execution_count": null,
   "metadata": {},
   "outputs": [],
   "source": []
  },
  {
   "cell_type": "code",
   "execution_count": 102,
   "metadata": {
    "scrolled": true
   },
   "outputs": [
    {
     "name": "stdout",
     "output_type": "stream",
     "text": [
      "[0]\ttrain-mlogloss:2.8257\teval-mlogloss:2.82864\n",
      "Multiple eval metrics have been passed: 'eval-mlogloss' will be used for early stopping.\n",
      "\n",
      "Will train until eval-mlogloss hasn't improved in 20 rounds.\n",
      "[1]\ttrain-mlogloss:2.59859\teval-mlogloss:2.60675\n",
      "[2]\ttrain-mlogloss:2.42218\teval-mlogloss:2.43573\n",
      "[3]\ttrain-mlogloss:2.29052\teval-mlogloss:2.30855\n",
      "[4]\ttrain-mlogloss:2.17791\teval-mlogloss:2.20024\n",
      "[5]\ttrain-mlogloss:2.08117\teval-mlogloss:2.10801\n",
      "[6]\ttrain-mlogloss:2.00098\teval-mlogloss:2.03118\n",
      "[7]\ttrain-mlogloss:1.93242\teval-mlogloss:1.96584\n",
      "[8]\ttrain-mlogloss:1.87462\teval-mlogloss:1.91181\n",
      "[9]\ttrain-mlogloss:1.82025\teval-mlogloss:1.86053\n",
      "[10]\ttrain-mlogloss:1.76975\teval-mlogloss:1.81351\n",
      "[11]\ttrain-mlogloss:1.72707\teval-mlogloss:1.77381\n",
      "[12]\ttrain-mlogloss:1.68713\teval-mlogloss:1.73698\n",
      "[13]\ttrain-mlogloss:1.64976\teval-mlogloss:1.70255\n",
      "[14]\ttrain-mlogloss:1.61745\teval-mlogloss:1.67298\n",
      "[15]\ttrain-mlogloss:1.58636\teval-mlogloss:1.64471\n",
      "[16]\ttrain-mlogloss:1.55911\teval-mlogloss:1.61998\n",
      "[17]\ttrain-mlogloss:1.53403\teval-mlogloss:1.5981\n",
      "[18]\ttrain-mlogloss:1.51082\teval-mlogloss:1.57766\n",
      "[19]\ttrain-mlogloss:1.48813\teval-mlogloss:1.55757\n",
      "[20]\ttrain-mlogloss:1.46834\teval-mlogloss:1.54024\n",
      "[21]\ttrain-mlogloss:1.44947\teval-mlogloss:1.52417\n",
      "[22]\ttrain-mlogloss:1.43128\teval-mlogloss:1.50836\n",
      "[23]\ttrain-mlogloss:1.41447\teval-mlogloss:1.49363\n",
      "[24]\ttrain-mlogloss:1.39966\teval-mlogloss:1.48134\n",
      "[25]\ttrain-mlogloss:1.38515\teval-mlogloss:1.46892\n",
      "[26]\ttrain-mlogloss:1.37245\teval-mlogloss:1.45901\n",
      "[27]\ttrain-mlogloss:1.35947\teval-mlogloss:1.44828\n",
      "[28]\ttrain-mlogloss:1.34737\teval-mlogloss:1.43819\n",
      "[29]\ttrain-mlogloss:1.33637\teval-mlogloss:1.42911\n",
      "[30]\ttrain-mlogloss:1.32556\teval-mlogloss:1.42042\n",
      "[31]\ttrain-mlogloss:1.31624\teval-mlogloss:1.41312\n",
      "[32]\ttrain-mlogloss:1.3068\teval-mlogloss:1.40578\n",
      "[33]\ttrain-mlogloss:1.29779\teval-mlogloss:1.39889\n",
      "[34]\ttrain-mlogloss:1.28929\teval-mlogloss:1.39238\n",
      "[35]\ttrain-mlogloss:1.28185\teval-mlogloss:1.38715\n",
      "[36]\ttrain-mlogloss:1.27409\teval-mlogloss:1.38162\n",
      "[37]\ttrain-mlogloss:1.26667\teval-mlogloss:1.37621\n",
      "[38]\ttrain-mlogloss:1.26\teval-mlogloss:1.37141\n",
      "[39]\ttrain-mlogloss:1.25356\teval-mlogloss:1.36678\n",
      "[40]\ttrain-mlogloss:1.24736\teval-mlogloss:1.36276\n",
      "[41]\ttrain-mlogloss:1.24109\teval-mlogloss:1.35864\n",
      "[42]\ttrain-mlogloss:1.23561\teval-mlogloss:1.35496\n",
      "[43]\ttrain-mlogloss:1.23026\teval-mlogloss:1.35151\n",
      "[44]\ttrain-mlogloss:1.22517\teval-mlogloss:1.34819\n",
      "[45]\ttrain-mlogloss:1.22014\teval-mlogloss:1.34505\n",
      "[46]\ttrain-mlogloss:1.21532\teval-mlogloss:1.34201\n",
      "[47]\ttrain-mlogloss:1.21045\teval-mlogloss:1.33934\n",
      "[48]\ttrain-mlogloss:1.20625\teval-mlogloss:1.33706\n",
      "[49]\ttrain-mlogloss:1.20221\teval-mlogloss:1.33467\n",
      "[50]\ttrain-mlogloss:1.19815\teval-mlogloss:1.33256\n",
      "[51]\ttrain-mlogloss:1.19402\teval-mlogloss:1.3304\n",
      "[52]\ttrain-mlogloss:1.19019\teval-mlogloss:1.32835\n",
      "[53]\ttrain-mlogloss:1.18652\teval-mlogloss:1.32685\n",
      "[54]\ttrain-mlogloss:1.18271\teval-mlogloss:1.32469\n",
      "[55]\ttrain-mlogloss:1.17935\teval-mlogloss:1.32281\n",
      "[56]\ttrain-mlogloss:1.17603\teval-mlogloss:1.32125\n",
      "[57]\ttrain-mlogloss:1.17307\teval-mlogloss:1.31979\n",
      "[58]\ttrain-mlogloss:1.16997\teval-mlogloss:1.31848\n",
      "[59]\ttrain-mlogloss:1.16694\teval-mlogloss:1.31704\n",
      "[60]\ttrain-mlogloss:1.16397\teval-mlogloss:1.31561\n",
      "[61]\ttrain-mlogloss:1.16119\teval-mlogloss:1.31485\n",
      "[62]\ttrain-mlogloss:1.15872\teval-mlogloss:1.3139\n",
      "[63]\ttrain-mlogloss:1.15633\teval-mlogloss:1.31291\n",
      "[64]\ttrain-mlogloss:1.15388\teval-mlogloss:1.31203\n",
      "[65]\ttrain-mlogloss:1.15156\teval-mlogloss:1.31121\n",
      "[66]\ttrain-mlogloss:1.14899\teval-mlogloss:1.31025\n",
      "[67]\ttrain-mlogloss:1.14655\teval-mlogloss:1.30959\n",
      "[68]\ttrain-mlogloss:1.1438\teval-mlogloss:1.30894\n",
      "[69]\ttrain-mlogloss:1.1411\teval-mlogloss:1.30831\n",
      "[70]\ttrain-mlogloss:1.13874\teval-mlogloss:1.3078\n",
      "[71]\ttrain-mlogloss:1.13668\teval-mlogloss:1.30718\n",
      "[72]\ttrain-mlogloss:1.13423\teval-mlogloss:1.30668\n",
      "[73]\ttrain-mlogloss:1.13182\teval-mlogloss:1.30635\n",
      "[74]\ttrain-mlogloss:1.12947\teval-mlogloss:1.30617\n",
      "[75]\ttrain-mlogloss:1.12752\teval-mlogloss:1.30578\n",
      "[76]\ttrain-mlogloss:1.12561\teval-mlogloss:1.30543\n",
      "[77]\ttrain-mlogloss:1.12381\teval-mlogloss:1.30517\n",
      "[78]\ttrain-mlogloss:1.1215\teval-mlogloss:1.30505\n",
      "[79]\ttrain-mlogloss:1.11919\teval-mlogloss:1.30516\n",
      "[80]\ttrain-mlogloss:1.11677\teval-mlogloss:1.30489\n",
      "[81]\ttrain-mlogloss:1.11448\teval-mlogloss:1.30492\n",
      "[82]\ttrain-mlogloss:1.11256\teval-mlogloss:1.30488\n",
      "[83]\ttrain-mlogloss:1.11062\teval-mlogloss:1.30514\n",
      "[84]\ttrain-mlogloss:1.10871\teval-mlogloss:1.3051\n",
      "[85]\ttrain-mlogloss:1.10649\teval-mlogloss:1.30486\n",
      "[86]\ttrain-mlogloss:1.10461\teval-mlogloss:1.30489\n",
      "[87]\ttrain-mlogloss:1.10283\teval-mlogloss:1.30496\n",
      "[88]\ttrain-mlogloss:1.10118\teval-mlogloss:1.30504\n",
      "[89]\ttrain-mlogloss:1.09955\teval-mlogloss:1.30487\n",
      "[90]\ttrain-mlogloss:1.09777\teval-mlogloss:1.30507\n",
      "[91]\ttrain-mlogloss:1.09641\teval-mlogloss:1.30489\n",
      "[92]\ttrain-mlogloss:1.09439\teval-mlogloss:1.30485\n",
      "[93]\ttrain-mlogloss:1.09277\teval-mlogloss:1.30505\n",
      "[94]\ttrain-mlogloss:1.09058\teval-mlogloss:1.30523\n",
      "[95]\ttrain-mlogloss:1.08922\teval-mlogloss:1.30514\n",
      "[96]\ttrain-mlogloss:1.08759\teval-mlogloss:1.30529\n",
      "[97]\ttrain-mlogloss:1.0859\teval-mlogloss:1.30543\n",
      "[98]\ttrain-mlogloss:1.0843\teval-mlogloss:1.30571\n",
      "[99]\ttrain-mlogloss:1.08231\teval-mlogloss:1.30606\n"
     ]
    }
   ],
   "source": [
    "watch_list = [(trn, 'train'), (vld, 'eval')]\n",
    "model = xgb.train(param, trn, num_boost_round=1pickle.dump(model, open(\"next_multi.pickle\", \"wb\"))00, evals=watch_list, early_stopping_rounds=20)"
   ]
  },
  {
   "cell_type": "code",
   "execution_count": 103,
   "metadata": {},
   "outputs": [],
   "source": [
    "best_ntree_limit = model.best_ntree_limit"
   ]
  },
  {
   "cell_type": "code",
   "execution_count": 104,
   "metadata": {},
   "outputs": [
    {
     "data": {
      "text/plain": [
       "93"
      ]
     },
     "execution_count": 104,
     "metadata": {},
     "output_type": "execute_result"
    }
   ],
   "source": [
    "best_ntree_limit"
   ]
  },
  {
   "cell_type": "code",
   "execution_count": null,
   "metadata": {},
   "outputs": [],
   "source": []
  },
  {
   "cell_type": "code",
   "execution_count": 108,
   "metadata": {},
   "outputs": [],
   "source": [
    "x_trnvld = pd.concat([x_trn, x_vld])\n",
    "X_trnvld = x_trnvld.as_matrix(columns=features)\n",
    "Y_trnvld = x_trnvld.as_matrix(columns=['y'])\n",
    "trnvld = xgb.DMatrix(X_trnvld, label=Y_trnvld, feature_names=features)"
   ]
  },
  {
   "cell_type": "code",
   "execution_count": 109,
   "metadata": {},
   "outputs": [],
   "source": [
    "best_ntree_limit = int(best_ntree_limit * (len(X_trn) + len(X_vld)) / len(X_trn))"
   ]
  },
  {
   "cell_type": "code",
   "execution_count": 112,
   "metadata": {
    "scrolled": true
   },
   "outputs": [
    {
     "name": "stdout",
     "output_type": "stream",
     "text": [
      "[0]\ttrnvld-mlogloss:2.82502\n",
      "[1]\ttrnvld-mlogloss:2.61668\n",
      "[2]\ttrnvld-mlogloss:2.43481\n",
      "[3]\ttrnvld-mlogloss:2.3068\n",
      "[4]\ttrnvld-mlogloss:2.18805\n",
      "[5]\ttrnvld-mlogloss:2.09779\n",
      "[6]\ttrnvld-mlogloss:2.01436\n",
      "[7]\ttrnvld-mlogloss:1.93938\n",
      "[8]\ttrnvld-mlogloss:1.87724\n",
      "[9]\ttrnvld-mlogloss:1.81988\n",
      "[10]\ttrnvld-mlogloss:1.76984\n",
      "[11]\ttrnvld-mlogloss:1.72448\n",
      "[12]\ttrnvld-mlogloss:1.68384\n",
      "[13]\ttrnvld-mlogloss:1.64671\n",
      "[14]\ttrnvld-mlogloss:1.61355\n",
      "[15]\ttrnvld-mlogloss:1.58312\n",
      "[16]\ttrnvld-mlogloss:1.55546\n",
      "[17]\ttrnvld-mlogloss:1.52927\n",
      "[18]\ttrnvld-mlogloss:1.5061\n",
      "[19]\ttrnvld-mlogloss:1.48484\n",
      "[20]\ttrnvld-mlogloss:1.46513\n",
      "[21]\ttrnvld-mlogloss:1.44793\n",
      "[22]\ttrnvld-mlogloss:1.43\n",
      "[23]\ttrnvld-mlogloss:1.41406\n",
      "[24]\ttrnvld-mlogloss:1.39929\n",
      "[25]\ttrnvld-mlogloss:1.38521\n",
      "[26]\ttrnvld-mlogloss:1.37198\n",
      "[27]\ttrnvld-mlogloss:1.35978\n",
      "[28]\ttrnvld-mlogloss:1.3479\n",
      "[29]\ttrnvld-mlogloss:1.33733\n",
      "[30]\ttrnvld-mlogloss:1.32696\n",
      "[31]\ttrnvld-mlogloss:1.31722\n",
      "[32]\ttrnvld-mlogloss:1.30855\n",
      "[33]\ttrnvld-mlogloss:1.30011\n",
      "[34]\ttrnvld-mlogloss:1.29199\n",
      "[35]\ttrnvld-mlogloss:1.28469\n",
      "[36]\ttrnvld-mlogloss:1.27719\n",
      "[37]\ttrnvld-mlogloss:1.26999\n",
      "[38]\ttrnvld-mlogloss:1.26321\n",
      "[39]\ttrnvld-mlogloss:1.25691\n",
      "[40]\ttrnvld-mlogloss:1.25066\n",
      "[41]\ttrnvld-mlogloss:1.24483\n",
      "[42]\ttrnvld-mlogloss:1.23927\n",
      "[43]\ttrnvld-mlogloss:1.23403\n",
      "[44]\ttrnvld-mlogloss:1.22887\n",
      "[45]\ttrnvld-mlogloss:1.22437\n",
      "[46]\ttrnvld-mlogloss:1.21988\n",
      "[47]\ttrnvld-mlogloss:1.21578\n",
      "[48]\ttrnvld-mlogloss:1.21175\n",
      "[49]\ttrnvld-mlogloss:1.20777\n",
      "[50]\ttrnvld-mlogloss:1.20368\n",
      "[51]\ttrnvld-mlogloss:1.19989\n",
      "[52]\ttrnvld-mlogloss:1.19623\n",
      "[53]\ttrnvld-mlogloss:1.19267\n",
      "[54]\ttrnvld-mlogloss:1.18943\n",
      "[55]\ttrnvld-mlogloss:1.18626\n",
      "[56]\ttrnvld-mlogloss:1.18308\n",
      "[57]\ttrnvld-mlogloss:1.17996\n",
      "[58]\ttrnvld-mlogloss:1.17691\n",
      "[59]\ttrnvld-mlogloss:1.17403\n",
      "[60]\ttrnvld-mlogloss:1.17113\n",
      "[61]\ttrnvld-mlogloss:1.16841\n",
      "[62]\ttrnvld-mlogloss:1.16574\n",
      "[63]\ttrnvld-mlogloss:1.16329\n",
      "[64]\ttrnvld-mlogloss:1.16072\n",
      "[65]\ttrnvld-mlogloss:1.15836\n",
      "[66]\ttrnvld-mlogloss:1.15599\n",
      "[67]\ttrnvld-mlogloss:1.15387\n",
      "[68]\ttrnvld-mlogloss:1.1516\n",
      "[69]\ttrnvld-mlogloss:1.14914\n",
      "[70]\ttrnvld-mlogloss:1.14708\n",
      "[71]\ttrnvld-mlogloss:1.14511\n",
      "[72]\ttrnvld-mlogloss:1.14292\n",
      "[73]\ttrnvld-mlogloss:1.14089\n",
      "[74]\ttrnvld-mlogloss:1.13872\n",
      "[75]\ttrnvld-mlogloss:1.13658\n",
      "[76]\ttrnvld-mlogloss:1.13423\n",
      "[77]\ttrnvld-mlogloss:1.13225\n",
      "[78]\ttrnvld-mlogloss:1.13015\n",
      "[79]\ttrnvld-mlogloss:1.12846\n",
      "[80]\ttrnvld-mlogloss:1.12675\n",
      "[81]\ttrnvld-mlogloss:1.12498\n",
      "[82]\ttrnvld-mlogloss:1.12332\n",
      "[83]\ttrnvld-mlogloss:1.12168\n",
      "[84]\ttrnvld-mlogloss:1.12005\n",
      "[85]\ttrnvld-mlogloss:1.11825\n",
      "[86]\ttrnvld-mlogloss:1.11634\n",
      "[87]\ttrnvld-mlogloss:1.11487\n",
      "[88]\ttrnvld-mlogloss:1.11311\n",
      "[89]\ttrnvld-mlogloss:1.11117\n",
      "[90]\ttrnvld-mlogloss:1.10939\n",
      "[91]\ttrnvld-mlogloss:1.10782\n",
      "[92]\ttrnvld-mlogloss:1.10609\n",
      "[93]\ttrnvld-mlogloss:1.10452\n",
      "[94]\ttrnvld-mlogloss:1.1028\n",
      "[95]\ttrnvld-mlogloss:1.10116\n",
      "[96]\ttrnvld-mlogloss:1.09962\n",
      "[97]\ttrnvld-mlogloss:1.09809\n",
      "[98]\ttrnvld-mlogloss:1.09621\n",
      "[99]\ttrnvld-mlogloss:1.09507\n",
      "[100]\ttrnvld-mlogloss:1.09339\n",
      "[101]\ttrnvld-mlogloss:1.092\n",
      "[102]\ttrnvld-mlogloss:1.09053\n"
     ]
    }
   ],
   "source": [
    "evallist = [(trnvld, 'trnvld')]\n",
    "model = xgb.train(param, trnvld, best_ntree_limit, evals=evallist)"
   ]
  },
  {
   "cell_type": "code",
   "execution_count": 113,
   "metadata": {
    "scrolled": true
   },
   "outputs": [
    {
     "name": "stdout",
     "output_type": "stream",
     "text": [
      "Feature importance:\n",
      "('renta', 7433)\n",
      "('age', 6721)\n",
      "('antiguedad', 6649)\n",
      "('nomprov', 4225)\n",
      "('fecha_alta_month', 3334)\n",
      "('fecha_alta_year', 2980)\n",
      "('canal_entrada', 2268)\n",
      "('renta_prev', 2209)\n",
      "('age_prev', 2064)\n",
      "('antiguedad_prev', 2031)\n",
      "('ind_cco_fin_ult1_prev', 1411)\n",
      "('nomprov_prev', 1288)\n",
      "('ind_recibo_ult1_prev', 1207)\n",
      "('sexo', 1080)\n",
      "('ind_cno_fin_ult1_prev', 1045)\n",
      "('ind_ecue_fin_ult1_prev', 1035)\n",
      "('segmento', 961)\n",
      "('fecha_alta_year_prev', 845)\n",
      "('fecha_alta_month_prev', 833)\n",
      "('ind_tjcr_fin_ult1_prev', 765)\n",
      "('ind_reca_fin_ult1_prev', 677)\n",
      "('canal_entrada_prev', 670)\n",
      "('ind_dela_fin_ult1_prev', 653)\n",
      "('ind_ctop_fin_ult1_prev', 575)\n",
      "('ind_nomina_ult1_prev', 566)\n",
      "('ind_nom_pens_ult1_prev', 546)\n",
      "('ind_ctpp_fin_ult1_prev', 510)\n",
      "('ind_valo_fin_ult1_prev', 451)\n",
      "('tiprel_1mes', 418)\n",
      "('ind_actividad_cliente', 338)\n",
      "('sexo_prev', 335)\n",
      "('ind_fond_fin_ult1_prev', 273)\n",
      "('ind_deco_fin_ult1_prev', 269)\n",
      "('segmento_prev', 243)\n",
      "('ind_nuevo', 240)\n",
      "('indext', 240)\n",
      "('ind_ctma_fin_ult1_prev', 216)\n",
      "('tiprel_1mes_prev', 132)\n",
      "('ind_hip_fin_ult1_prev', 119)\n",
      "('ind_plan_fin_ult1_prev', 113)\n",
      "('ind_actividad_cliente_prev', 83)\n",
      "('indext_prev', 72)\n",
      "('ind_nuevo_prev', 67)\n",
      "('pais_residencia', 45)\n",
      "('ind_ctju_fin_ult1_prev', 40)\n",
      "('ind_pres_fin_ult1_prev', 29)\n",
      "('ind_viv_fin_ult1_prev', 26)\n",
      "('ind_deme_fin_ult1_prev', 17)\n",
      "('pais_residencia_prev', 5)\n",
      "('indresi', 1)\n"
     ]
    }
   ],
   "source": [
    "print(\"Feature importance:\")\n",
    "for kv in sorted([(k,v) for k,v in model.get_fscore().items()], key=lambda kv: kv[1], reverse=True):\n",
    "    print(kv)"
   ]
  },
  {
   "cell_type": "code",
   "execution_count": null,
   "metadata": {},
   "outputs": [],
   "source": []
  },
  {
   "cell_type": "code",
   "execution_count": 124,
   "metadata": {},
   "outputs": [],
   "source": [
    "X_test = x_tst.as_matrix(columns=features)\n",
    "test = xgb.DMatrix(X_test, feature_names=features)\n",
    "\n",
    "preds = model.predict(test, ntree_limit=best_ntree_limit)"
   ]
  },
  {
   "cell_type": "code",
   "execution_count": 127,
   "metadata": {},
   "outputs": [
    {
     "data": {
      "text/plain": [
       "array([[  7.78798785e-05,   7.78798785e-05,   9.43195462e-01, ...,\n",
       "          1.93258915e-02,   1.56924538e-02,   1.33338282e-02],\n",
       "       [  1.66632788e-04,   1.66632788e-04,   5.10314465e-01, ...,\n",
       "          2.05973089e-01,   2.24359468e-01,   4.38863188e-02],\n",
       "       [  9.23667685e-05,   9.23667685e-05,   9.00410891e-01, ...,\n",
       "          1.91288050e-02,   3.27016674e-02,  -9.99781565e-01],\n",
       "       ..., \n",
       "       [  1.51880449e-04,   1.51880449e-04,  -9.99166709e-01, ...,\n",
       "          1.90527495e-02,   2.23453622e-02,   6.51772380e-01],\n",
       "       [  2.10584447e-04,   2.10584447e-04,  -9.99095550e-01, ...,\n",
       "          1.63232982e-02,   3.91644388e-02,   7.39915073e-01],\n",
       "       [  1.41450699e-04,   1.41450699e-04,  -9.99374427e-01, ...,\n",
       "          1.80670395e-02,   2.40509938e-02,   6.97778642e-01]])"
      ]
     },
     "execution_count": 127,
     "metadata": {},
     "output_type": "execute_result"
    }
   ],
   "source": [
    "preds"
   ]
  },
  {
   "cell_type": "code",
   "execution_count": 126,
   "metadata": {
    "scrolled": true
   },
   "outputs": [],
   "source": [
    "# subtract prev1 because possessed item cannot be bought\n",
    "preds = preds - x_tst.as_matrix(columns=[prod + '_prev' for prod in prods])"
   ]
  },
  {
   "cell_type": "code",
   "execution_count": 128,
   "metadata": {},
   "outputs": [
    {
     "data": {
      "text/plain": [
       "(4064, 1)"
      ]
     },
     "execution_count": 128,
     "metadata": {},
     "output_type": "execute_result"
    }
   ],
   "source": [
    "ncodpers_tst.shape"
   ]
  },
  {
   "cell_type": "code",
   "execution_count": 131,
   "metadata": {},
   "outputs": [],
   "source": [
    "result = []\n",
    "\n",
    "for ncodper, pred in zip(ncodpers_tst, preds):\n",
    "    y_prods = [(y,p,ip) for y,p,ip in zip(pred, prods, range(len(prods)))]\n",
    "    y_prods = sorted(y_prods, key=lambda a: a[0], reverse=True)[:7]\n",
    "    result.append([ip for y,p,ip in y_prods])\n",
    "    y_prods = [p for y,p,ip in y_prods]"
   ]
  },
  {
   "cell_type": "code",
   "execution_count": 134,
   "metadata": {},
   "outputs": [
    {
     "data": {
      "text/plain": [
       "(4064, 24)"
      ]
     },
     "execution_count": 134,
     "metadata": {},
     "output_type": "execute_result"
    }
   ],
   "source": [
    "preds.shape"
   ]
  },
  {
   "cell_type": "code",
   "execution_count": 136,
   "metadata": {},
   "outputs": [
    {
     "data": {
      "text/plain": [
       "0.79514196467629039"
      ]
     },
     "execution_count": 136,
     "metadata": {},
     "output_type": "execute_result"
    }
   ],
   "source": [
    "mapk(add_tst_list, result, 7, 0.0)"
   ]
  }
 ],
 "metadata": {
  "kernelspec": {
   "display_name": "Python 3",
   "language": "python",
   "name": "python3"
  },
  "language_info": {
   "codemirror_mode": {
    "name": "ipython",
    "version": 3
   },
   "file_extension": ".py",
   "mimetype": "text/x-python",
   "name": "python",
   "nbconvert_exporter": "python",
   "pygments_lexer": "ipython3",
   "version": "3.6.4"
  }
 },
 "nbformat": 4,
 "nbformat_minor": 2
}
