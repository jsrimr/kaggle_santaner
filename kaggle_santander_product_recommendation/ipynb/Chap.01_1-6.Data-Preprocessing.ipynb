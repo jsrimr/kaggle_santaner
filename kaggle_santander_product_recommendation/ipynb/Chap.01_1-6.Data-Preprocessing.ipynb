{
 "cells": [
  {
   "cell_type": "code",
   "execution_count": 1,
   "metadata": {},
   "outputs": [],
   "source": [
    "import pandas as pd"
   ]
  },
  {
   "cell_type": "markdown",
   "metadata": {},
   "source": [
    "### (1) 결측값 대체,  `.fillna()` 사용 예시"
   ]
  },
  {
   "cell_type": "code",
   "execution_count": 2,
   "metadata": {},
   "outputs": [
    {
     "data": {
      "text/html": [
       "<div>\n",
       "<style scoped>\n",
       "    .dataframe tbody tr th:only-of-type {\n",
       "        vertical-align: middle;\n",
       "    }\n",
       "\n",
       "    .dataframe tbody tr th {\n",
       "        vertical-align: top;\n",
       "    }\n",
       "\n",
       "    .dataframe thead th {\n",
       "        text-align: right;\n",
       "    }\n",
       "</style>\n",
       "<table border=\"1\" class=\"dataframe\">\n",
       "  <thead>\n",
       "    <tr style=\"text-align: right;\">\n",
       "      <th></th>\n",
       "      <th>0</th>\n",
       "    </tr>\n",
       "  </thead>\n",
       "  <tbody>\n",
       "    <tr>\n",
       "      <th>0</th>\n",
       "      <td>Korea</td>\n",
       "    </tr>\n",
       "    <tr>\n",
       "      <th>1</th>\n",
       "      <td>Japan</td>\n",
       "    </tr>\n",
       "    <tr>\n",
       "      <th>2</th>\n",
       "      <td>NaN</td>\n",
       "    </tr>\n",
       "  </tbody>\n",
       "</table>\n",
       "</div>"
      ],
      "text/plain": [
       "       0\n",
       "0  Korea\n",
       "1  Japan\n",
       "2    NaN"
      ]
     },
     "execution_count": 2,
     "metadata": {},
     "output_type": "execute_result"
    }
   ],
   "source": [
    "df = pd.DataFrame(['Korea', 'Japan', float('nan')])\n",
    "df"
   ]
  },
  {
   "cell_type": "code",
   "execution_count": 3,
   "metadata": {},
   "outputs": [
    {
     "data": {
      "text/html": [
       "<div>\n",
       "<style scoped>\n",
       "    .dataframe tbody tr th:only-of-type {\n",
       "        vertical-align: middle;\n",
       "    }\n",
       "\n",
       "    .dataframe tbody tr th {\n",
       "        vertical-align: top;\n",
       "    }\n",
       "\n",
       "    .dataframe thead th {\n",
       "        text-align: right;\n",
       "    }\n",
       "</style>\n",
       "<table border=\"1\" class=\"dataframe\">\n",
       "  <thead>\n",
       "    <tr style=\"text-align: right;\">\n",
       "      <th></th>\n",
       "      <th>0</th>\n",
       "    </tr>\n",
       "  </thead>\n",
       "  <tbody>\n",
       "    <tr>\n",
       "      <th>0</th>\n",
       "      <td>Korea</td>\n",
       "    </tr>\n",
       "    <tr>\n",
       "      <th>1</th>\n",
       "      <td>Japan</td>\n",
       "    </tr>\n",
       "    <tr>\n",
       "      <th>2</th>\n",
       "      <td>Unknown</td>\n",
       "    </tr>\n",
       "  </tbody>\n",
       "</table>\n",
       "</div>"
      ],
      "text/plain": [
       "         0\n",
       "0    Korea\n",
       "1    Japan\n",
       "2  Unknown"
      ]
     },
     "execution_count": 3,
     "metadata": {},
     "output_type": "execute_result"
    }
   ],
   "source": [
    "df.fillna('Unknown')"
   ]
  },
  {
   "cell_type": "markdown",
   "metadata": {},
   "source": [
    "### (2) 범주형 데이터를 수치형으로 변환, `LabelEncoder` 사용 예시 "
   ]
  },
  {
   "cell_type": "code",
   "execution_count": 4,
   "metadata": {},
   "outputs": [
    {
     "data": {
      "text/plain": [
       "array([2, 2, 0, 2, 1, 0])"
      ]
     },
     "execution_count": 4,
     "metadata": {},
     "output_type": "execute_result"
    }
   ],
   "source": [
    "# 코드 1-14. LabelEncoder 사용 예시\n",
    "\n",
    "# 6명 선수의 국적\n",
    "countries = ['Korea', 'Korea', 'China', 'Korea', 'Japan', 'China']\n",
    "\n",
    "# LabelEncoder 불러오기\n",
    "from sklearn.preprocessing import LabelEncoder\n",
    "\n",
    "# LabelEncoder object 생성\n",
    "lb = LabelEncoder()\n",
    "# .fit()을 통해 범주형 데이터 고유값을 저장\n",
    "lb.fit(countries)\n",
    "# .transform()을 통해 수치형 데이터로 변환\n",
    "lb.transform(countries)"
   ]
  },
  {
   "cell_type": "code",
   "execution_count": 5,
   "metadata": {},
   "outputs": [
    {
     "data": {
      "text/plain": [
       "array(['China', 'Japan', 'Korea'],\n",
       "      dtype='<U5')"
      ]
     },
     "execution_count": 5,
     "metadata": {},
     "output_type": "execute_result"
    }
   ],
   "source": [
    "# 코드 1-15. LabelEncoder에 저장된 고유값\n",
    "\n",
    "lb.classes_"
   ]
  },
  {
   "cell_type": "code",
   "execution_count": 6,
   "metadata": {},
   "outputs": [
    {
     "data": {
      "text/plain": [
       "array([0, 0, 0, 2])"
      ]
     },
     "execution_count": 6,
     "metadata": {},
     "output_type": "execute_result"
    }
   ],
   "source": [
    "# 코드 1-16. LabelEncoder에 다른 크기의 데이터 입력\n",
    "\n",
    "semi_finalists = ['China', 'China', 'China', 'Korea']\n",
    "lb.transform(semi_finalists)"
   ]
  },
  {
   "cell_type": "code",
   "execution_count": 7,
   "metadata": {},
   "outputs": [
    {
     "ename": "ValueError",
     "evalue": "y contains new labels: ['United States']",
     "output_type": "error",
     "traceback": [
      "\u001b[0;31m---------------------------------------------------------------------------\u001b[0m",
      "\u001b[0;31mValueError\u001b[0m                                Traceback (most recent call last)",
      "\u001b[0;32m<ipython-input-7-0c68048659e4>\u001b[0m in \u001b[0;36m<module>\u001b[0;34m()\u001b[0m\n\u001b[1;32m      2\u001b[0m \u001b[0;34m\u001b[0m\u001b[0m\n\u001b[1;32m      3\u001b[0m \u001b[0mfinalists\u001b[0m \u001b[0;34m=\u001b[0m \u001b[0;34m[\u001b[0m\u001b[0;34m'China'\u001b[0m\u001b[0;34m,\u001b[0m \u001b[0;34m'United States'\u001b[0m\u001b[0;34m,\u001b[0m \u001b[0;34m'China'\u001b[0m\u001b[0;34m,\u001b[0m \u001b[0;34m'Korea'\u001b[0m\u001b[0;34m]\u001b[0m\u001b[0;34m\u001b[0m\u001b[0m\n\u001b[0;32m----> 4\u001b[0;31m \u001b[0mlb\u001b[0m\u001b[0;34m.\u001b[0m\u001b[0mtransform\u001b[0m\u001b[0;34m(\u001b[0m\u001b[0mfinalists\u001b[0m\u001b[0;34m)\u001b[0m\u001b[0;34m\u001b[0m\u001b[0m\n\u001b[0m",
      "\u001b[0;32m~/.pyenv/versions/3.6.4/envs/venv/lib/python3.6/site-packages/sklearn/preprocessing/label.py\u001b[0m in \u001b[0;36mtransform\u001b[0;34m(self, y)\u001b[0m\n\u001b[1;32m    131\u001b[0m         \u001b[0;32mif\u001b[0m \u001b[0mlen\u001b[0m\u001b[0;34m(\u001b[0m\u001b[0mnp\u001b[0m\u001b[0;34m.\u001b[0m\u001b[0mintersect1d\u001b[0m\u001b[0;34m(\u001b[0m\u001b[0mclasses\u001b[0m\u001b[0;34m,\u001b[0m \u001b[0mself\u001b[0m\u001b[0;34m.\u001b[0m\u001b[0mclasses_\u001b[0m\u001b[0;34m)\u001b[0m\u001b[0;34m)\u001b[0m \u001b[0;34m<\u001b[0m \u001b[0mlen\u001b[0m\u001b[0;34m(\u001b[0m\u001b[0mclasses\u001b[0m\u001b[0;34m)\u001b[0m\u001b[0;34m:\u001b[0m\u001b[0;34m\u001b[0m\u001b[0m\n\u001b[1;32m    132\u001b[0m             \u001b[0mdiff\u001b[0m \u001b[0;34m=\u001b[0m \u001b[0mnp\u001b[0m\u001b[0;34m.\u001b[0m\u001b[0msetdiff1d\u001b[0m\u001b[0;34m(\u001b[0m\u001b[0mclasses\u001b[0m\u001b[0;34m,\u001b[0m \u001b[0mself\u001b[0m\u001b[0;34m.\u001b[0m\u001b[0mclasses_\u001b[0m\u001b[0;34m)\u001b[0m\u001b[0;34m\u001b[0m\u001b[0m\n\u001b[0;32m--> 133\u001b[0;31m             \u001b[0;32mraise\u001b[0m \u001b[0mValueError\u001b[0m\u001b[0;34m(\u001b[0m\u001b[0;34m\"y contains new labels: %s\"\u001b[0m \u001b[0;34m%\u001b[0m \u001b[0mstr\u001b[0m\u001b[0;34m(\u001b[0m\u001b[0mdiff\u001b[0m\u001b[0;34m)\u001b[0m\u001b[0;34m)\u001b[0m\u001b[0;34m\u001b[0m\u001b[0m\n\u001b[0m\u001b[1;32m    134\u001b[0m         \u001b[0;32mreturn\u001b[0m \u001b[0mnp\u001b[0m\u001b[0;34m.\u001b[0m\u001b[0msearchsorted\u001b[0m\u001b[0;34m(\u001b[0m\u001b[0mself\u001b[0m\u001b[0;34m.\u001b[0m\u001b[0mclasses_\u001b[0m\u001b[0;34m,\u001b[0m \u001b[0my\u001b[0m\u001b[0;34m)\u001b[0m\u001b[0;34m\u001b[0m\u001b[0m\n\u001b[1;32m    135\u001b[0m \u001b[0;34m\u001b[0m\u001b[0m\n",
      "\u001b[0;31mValueError\u001b[0m: y contains new labels: ['United States']"
     ]
    }
   ],
   "source": [
    "# 코드 1-17. LabelEncoder에서 새로운 고유값은 변환 불가\n",
    "\n",
    "finalists = ['China', 'United States', 'China', 'Korea']\n",
    "lb.transform(finalists)"
   ]
  },
  {
   "cell_type": "markdown",
   "metadata": {},
   "source": [
    "### 전처리 실행 코드"
   ]
  },
  {
   "cell_type": "code",
   "execution_count": 8,
   "metadata": {},
   "outputs": [
    {
     "name": "stderr",
     "output_type": "stream",
     "text": [
      "/home1/irteam/.pyenv/versions/3.6.4/envs/venv/lib/python3.6/site-packages/IPython/core/interactiveshell.py:2728: DtypeWarning: Columns (5,8,11,15) have mixed types. Specify dtype option on import or set low_memory=False.\n",
      "  interactivity=interactivity, compiler=compiler, result=result)\n",
      "/home1/irteam/.pyenv/versions/3.6.4/envs/venv/lib/python3.6/site-packages/IPython/core/interactiveshell.py:2728: DtypeWarning: Columns (15) have mixed types. Specify dtype option on import or set low_memory=False.\n",
      "  interactivity=interactivity, compiler=compiler, result=result)\n"
     ]
    }
   ],
   "source": [
    "# 코드 1-18. 전처리 준비\n",
    "\n",
    "trn = pd.read_csv('data/train_ver2.csv')\n",
    "tst = pd.read_csv('data/test_ver2.csv')\n",
    "\n",
    "def check_unique_vals(trn, tst, col):\n",
    "    print('col   : ', col)\n",
    "    print('train : ', set(trn[col]))\n",
    "    print('test  : ', set(tst[col]))\n",
    "    print('non-overlap : ', set(trn[col]).symmetric_difference(set(tst[col])))\n",
    "    \n",
    "def preprocess(trn, tst, col, replace_nan='unk'):\n",
    "    # 'unk'로 결측값 대체\n",
    "    trn[col].fillna(replace_nan, inplace=True)\n",
    "    tst[col].fillna(replace_nan, inplace=True)\n",
    "\n",
    "    # LabelEncoder로 수치형 데이터로 변환\n",
    "    lb = LabelEncoder()\n",
    "    lb.fit(pd.concat([trn[col],tst[col]]))\n",
    "    trn[col] = lb.transform(trn[col])\n",
    "    tst[col] = lb.transform(tst[col])\n",
    "    return trn, tst"
   ]
  },
  {
   "cell_type": "code",
   "execution_count": 9,
   "metadata": {},
   "outputs": [
    {
     "name": "stdout",
     "output_type": "stream",
     "text": [
      "col   :  fecha_dato\n",
      "train :  {'2016-01-28', '2015-02-28', '2015-07-28', '2015-12-28', '2016-02-28', '2015-03-28', '2015-09-28', '2015-10-28', '2015-05-28', '2016-03-28', '2015-01-28', '2015-04-28', '2015-06-28', '2016-04-28', '2015-11-28', '2015-08-28', '2016-05-28'}\n",
      "test  :  {'2016-06-28'}\n",
      "non-overlap :  {'2016-01-28', '2015-02-28', '2015-07-28', '2015-12-28', '2016-02-28', '2015-03-28', '2015-09-28', '2015-10-28', '2016-06-28', '2015-05-28', '2016-03-28', '2015-01-28', '2015-04-28', '2015-06-28', '2016-04-28', '2015-11-28', '2015-08-28', '2016-05-28'}\n"
     ]
    }
   ],
   "source": [
    "# 코드 1-19. fecha_dato 고유값 출력\n",
    "\n",
    "col = 'fecha_dato'\n",
    "check_unique_vals(trn, tst, col)"
   ]
  },
  {
   "cell_type": "code",
   "execution_count": 10,
   "metadata": {},
   "outputs": [
    {
     "name": "stdout",
     "output_type": "stream",
     "text": [
      "col   :  ind_empleado\n",
      "train :  {nan, 'F', 'S', 'B', 'N', 'A'}\n",
      "test  :  {'F', 'S', 'B', 'N', 'A'}\n",
      "non-overlap :  {nan}\n"
     ]
    }
   ],
   "source": [
    "# 코드 1-20. ind_empleado 고유값 출력\n",
    "\n",
    "col = 'ind_empleado'\n",
    "check_unique_vals(trn, tst, col)"
   ]
  },
  {
   "cell_type": "code",
   "execution_count": 11,
   "metadata": {},
   "outputs": [
    {
     "name": "stdout",
     "output_type": "stream",
     "text": [
      "col   :  ind_empleado\n",
      "train :  {0, 1, 2, 3, 4, 5}\n",
      "test  :  {0, 1, 2, 3, 4}\n",
      "non-overlap :  {5}\n"
     ]
    }
   ],
   "source": [
    "# 코드 1-21. ind_empleado 전처리 결과\n",
    "\n",
    "trn, tst = preprocess(trn, tst, col)\n",
    "check_unique_vals(trn, tst, col)"
   ]
  },
  {
   "cell_type": "code",
   "execution_count": 12,
   "metadata": {
    "scrolled": true
   },
   "outputs": [
    {
     "name": "stdout",
     "output_type": "stream",
     "text": [
      "ind_empleado\n",
      "pais_residencia\n",
      "sexo\n",
      "tiprel_1mes\n",
      "indresi\n",
      "indext\n",
      "conyuemp\n",
      "canal_entrada\n",
      "indfall\n",
      "nomprov\n",
      "segmento\n"
     ]
    }
   ],
   "source": [
    "# 코드 1-22. 전처리 코드\n",
    "\n",
    "# 1) 범주형 -> 수치형으로 변환하는 변수\n",
    "cols = ['ind_empleado', 'pais_residencia', 'sexo', 'tiprel_1mes', \\\n",
    "        'indresi', 'indext', 'conyuemp', 'canal_entrada', 'indfall', 'nomprov', 'segmento']\n",
    "for col in cols:\n",
    "    print(col)\n",
    "    trn, tst = preprocess(trn, tst, col)\n",
    "\n",
    "    \n",
    "# 2) 날짜 변수        \n",
    "col = 'fecha_dato'\n",
    "trn[col] = pd.to_datetime(trn[col])\n",
    "\n",
    "# 결측값은 첫 계약을 체결한 날짜가 짧다고 가정하고, '2016-06-01'로 변환\n",
    "col = 'fecha_alta'\n",
    "trn[col].fillna('2016-06-01', inplace=True)\n",
    "trn[col] = pd.to_datetime(trn[col])\n",
    "tst[col] = pd.to_datetime(tst[col])\n",
    "\n",
    "# 결측값을 데이터에서 가장 최신 날짜로 대체\n",
    "col = 'ult_fec_cli_1t'\n",
    "trn[col].fillna('2015-06-30', inplace=True)\n",
    "tst[col].fillna('2016-05-30', inplace=True)\n",
    "trn[col] = pd.to_datetime(trn[col])\n",
    "tst[col] = pd.to_datetime(tst[col])\n",
    "\n",
    "\n",
    "# 3) 소수형에서 정수형으로 변환하는 변수\n",
    "col = 'ind_nuevo'\n",
    "trn[col].fillna(-1,inplace=True)\n",
    "trn[col] = trn[col].astype(int)\n",
    "\n",
    "col = 'indrel'\n",
    "trn[col].fillna(0, inplace=True)\n",
    "trn[col].replace(99,2, inplace=True)\n",
    "trn[col] = trn[col].astype(int)\n",
    "tst[col].replace(99,2, inplace=True)\n",
    "\n",
    "col = 'age'\n",
    "# 결측값을 의미하는 ' NA'를 0으로 변환\n",
    "nan_value = ' NA'\n",
    "trn[col].replace(nan_value, 0, inplace=True)\n",
    "# trn 데이터를 정수형 (int)로 변환\n",
    "trn[col] = trn[col].astype(int)\n",
    "\n",
    "col = 'antiguedad'\n",
    "# 결측값을 의미하는 '     NA'를 0으로 변환\n",
    "nan_value = '     NA'\n",
    "trn[col].replace(nan_value, 0, inplace=True)\n",
    "# trn 데이터를 정수형 (int)로 변환\n",
    "trn[col] = trn[col].astype(int)\n",
    "\n",
    "col = 'indrel_1mes'\n",
    "# P를 0으로 대체 후, 데이터를 정수형으로 변환\n",
    "trn[col].fillna(-1, inplace=True)\n",
    "tst[col].fillna(-1, inplace=True)\n",
    "trn[col].replace('P', 0, inplace=True)\n",
    "trn[col] = trn[col].astype(float).astype(int)\n",
    "tst[col] = tst[col].astype(int)\n",
    "\n",
    "col = 'cod_prov'\n",
    "trn[col].fillna(0, inplace=True)\n",
    "tst[col].fillna(0, inplace=True)\n",
    "trn[col] = trn[col].astype(int)\n",
    "tst[col] = tst[col].astype(int)\n",
    "\n",
    "col = 'ind_actividad_cliente'\n",
    "trn[col].fillna(-1, inplace=True)\n",
    "tst[col].fillna(-1, inplace=True)\n",
    "trn[col] = trn[col].astype(int)\n",
    "tst[col] = tst[col].astype(int)\n",
    "\n",
    "col = 'renta'\n",
    "trn[col].fillna(0, inplace=True)\n",
    "tst[col].fillna(0, inplace=True)\n",
    "# 결측값을 의미하는 '         NA'를 0으로 변환\n",
    "nan_value = '         NA'\n",
    "trn[col].replace(nan_value, 0, inplace=True)\n",
    "tst[col].replace(nan_value, 0, inplace=True)\n",
    "# trn 데이터를 정수형 (int)로 변환\n",
    "trn[col] = trn[col].astype(float).astype(int)\n",
    "tst[col] = tst[col].astype(float).astype(int)\n",
    "\n",
    "\n",
    "# 불필요한 변수 제거\n",
    "col = 'tipodom'\n",
    "trn.drop([col], axis=1, inplace=True)\n",
    "tst.drop([col], axis=1, inplace=True)"
   ]
  },
  {
   "cell_type": "code",
   "execution_count": 13,
   "metadata": {},
   "outputs": [
    {
     "name": "stdout",
     "output_type": "stream",
     "text": [
      "<class 'pandas.core.frame.DataFrame'>\n",
      "RangeIndex: 13647309 entries, 0 to 13647308\n",
      "Data columns (total 23 columns):\n",
      "fecha_dato               datetime64[ns]\n",
      "ncodpers                 int64\n",
      "ind_empleado             int64\n",
      "pais_residencia          int64\n",
      "sexo                     int64\n",
      "age                      int64\n",
      "fecha_alta               datetime64[ns]\n",
      "ind_nuevo                int64\n",
      "antiguedad               int64\n",
      "indrel                   int64\n",
      "ult_fec_cli_1t           datetime64[ns]\n",
      "indrel_1mes              int64\n",
      "tiprel_1mes              int64\n",
      "indresi                  int64\n",
      "indext                   int64\n",
      "conyuemp                 int64\n",
      "canal_entrada            int64\n",
      "indfall                  int64\n",
      "cod_prov                 int64\n",
      "nomprov                  int64\n",
      "ind_actividad_cliente    int64\n",
      "renta                    int64\n",
      "segmento                 int64\n",
      "dtypes: datetime64[ns](3), int64(20)\n",
      "memory usage: 2.3 GB\n"
     ]
    }
   ],
   "source": [
    "# 코드 1-23. 전처리 수행한 Training Data 확인하기\n",
    "\n",
    "trn.iloc[:, :23].info()"
   ]
  },
  {
   "cell_type": "code",
   "execution_count": 14,
   "metadata": {},
   "outputs": [],
   "source": [
    "# 코드 1-24. 전처리 완료한 데이터 저장하기 \n",
    "\n",
    "trn.iloc[:, :23].to_csv('data/train_preprocess.csv', index=False)"
   ]
  }
 ],
 "metadata": {
  "kernelspec": {
   "display_name": "Python 3",
   "language": "python",
   "name": "python3"
  },
  "language_info": {
   "codemirror_mode": {
    "name": "ipython",
    "version": 3
   },
   "file_extension": ".py",
   "mimetype": "text/x-python",
   "name": "python",
   "nbconvert_exporter": "python",
   "pygments_lexer": "ipython3",
   "version": "3.6.4"
  }
 },
 "nbformat": 4,
 "nbformat_minor": 2
}
