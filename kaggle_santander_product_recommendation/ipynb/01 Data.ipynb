{
 "cells": [
  {
   "cell_type": "code",
   "execution_count": 1,
   "metadata": {},
   "outputs": [],
   "source": [
    "import time\n",
    "\n",
    "import pandas as pd"
   ]
  },
  {
   "cell_type": "code",
   "execution_count": 2,
   "metadata": {},
   "outputs": [],
   "source": [
    "# 타이머 기능\n",
    "def print_time(end, start):\n",
    "    print('='*50)\n",
    "    elapsed = end - start\n",
    "    print('{} secs'.format(round(elapsed)))"
   ]
  },
  {
   "cell_type": "code",
   "execution_count": 3,
   "metadata": {},
   "outputs": [
    {
     "name": "stderr",
     "output_type": "stream",
     "text": [
      "/home1/irteam/.pyenv/versions/3.6.4/envs/venv/lib/python3.6/site-packages/IPython/core/interactiveshell.py:2728: DtypeWarning: Columns (5,8,11,15) have mixed types. Specify dtype option on import or set low_memory=False.\n",
      "  interactivity=interactivity, compiler=compiler, result=result)\n"
     ]
    },
    {
     "name": "stdout",
     "output_type": "stream",
     "text": [
      "==================================================\n",
      "66 secs\n"
     ]
    }
   ],
   "source": [
    "st = time.time()\n",
    "\n",
    "# 데이터 읽어오기\n",
    "trn = pd.read_csv('../data/train_ver2.csv')\n",
    "\n",
    "print_time(time.time(),st)"
   ]
  },
  {
   "cell_type": "code",
   "execution_count": 10,
   "metadata": {},
   "outputs": [
    {
     "name": "stdout",
     "output_type": "stream",
     "text": [
      "48\n",
      "['fecha_dato', 'ncodpers', 'ind_empleado', 'pais_residencia', 'sexo', 'age', 'fecha_alta', 'ind_nuevo', 'antiguedad', 'indrel', 'ult_fec_cli_1t', 'indrel_1mes', 'tiprel_1mes', 'indresi', 'indext', 'conyuemp', 'canal_entrada', 'indfall', 'tipodom', 'cod_prov', 'nomprov', 'ind_actividad_cliente', 'renta', 'segmento', 'ind_ahor_fin_ult1', 'ind_aval_fin_ult1', 'ind_cco_fin_ult1', 'ind_cder_fin_ult1', 'ind_cno_fin_ult1', 'ind_ctju_fin_ult1', 'ind_ctma_fin_ult1', 'ind_ctop_fin_ult1', 'ind_ctpp_fin_ult1', 'ind_deco_fin_ult1', 'ind_deme_fin_ult1', 'ind_dela_fin_ult1', 'ind_ecue_fin_ult1', 'ind_fond_fin_ult1', 'ind_hip_fin_ult1', 'ind_plan_fin_ult1', 'ind_pres_fin_ult1', 'ind_reca_fin_ult1', 'ind_tjcr_fin_ult1', 'ind_valo_fin_ult1', 'ind_viv_fin_ult1', 'ind_nomina_ult1', 'ind_nom_pens_ult1', 'ind_recibo_ult1']\n",
      "==================================================\n",
      "0 secs\n"
     ]
    }
   ],
   "source": [
    "st = time.time()\n",
    "\n",
    "# 변수명 확인\n",
    "print(len(trn.columns))\n",
    "print(list(trn.columns))\n",
    "\n",
    "print_time(time.time(),st)"
   ]
  },
  {
   "cell_type": "code",
   "execution_count": 5,
   "metadata": {},
   "outputs": [
    {
     "name": "stdout",
     "output_type": "stream",
     "text": [
      "   fecha_dato  ncodpers ind_empleado pais_residencia sexo  age  fecha_alta  \\\n",
      "0  2015-01-28   1375586            N              ES    H   35  2015-01-12   \n",
      "1  2015-01-28   1050611            N              ES    V   23  2012-08-10   \n",
      "2  2015-01-28   1050612            N              ES    V   23  2012-08-10   \n",
      "3  2015-01-28   1050613            N              ES    H   22  2012-08-10   \n",
      "4  2015-01-28   1050614            N              ES    V   23  2012-08-10   \n",
      "\n",
      "   ind_nuevo antiguedad  indrel       ...        ind_hip_fin_ult1  \\\n",
      "0        0.0          6     1.0       ...                       0   \n",
      "1        0.0         35     1.0       ...                       0   \n",
      "2        0.0         35     1.0       ...                       0   \n",
      "3        0.0         35     1.0       ...                       0   \n",
      "4        0.0         35     1.0       ...                       0   \n",
      "\n",
      "  ind_plan_fin_ult1 ind_pres_fin_ult1 ind_reca_fin_ult1 ind_tjcr_fin_ult1  \\\n",
      "0                 0                 0                 0                 0   \n",
      "1                 0                 0                 0                 0   \n",
      "2                 0                 0                 0                 0   \n",
      "3                 0                 0                 0                 0   \n",
      "4                 0                 0                 0                 0   \n",
      "\n",
      "  ind_valo_fin_ult1 ind_viv_fin_ult1 ind_nomina_ult1  ind_nom_pens_ult1  \\\n",
      "0                 0                0             0.0                0.0   \n",
      "1                 0                0             0.0                0.0   \n",
      "2                 0                0             0.0                0.0   \n",
      "3                 0                0             0.0                0.0   \n",
      "4                 0                0             0.0                0.0   \n",
      "\n",
      "   ind_recibo_ult1  \n",
      "0                0  \n",
      "1                0  \n",
      "2                0  \n",
      "3                0  \n",
      "4                0  \n",
      "\n",
      "[5 rows x 48 columns]\n",
      "==================================================\n",
      "0 secs\n"
     ]
    }
   ],
   "source": [
    "st = time.time()\n",
    "\n",
    "# 데이터 첫 10줄 미리보기\n",
    "print(trn.head())\n",
    "\n",
    "print_time(time.time(),st)"
   ]
  },
  {
   "cell_type": "code",
   "execution_count": 11,
   "metadata": {},
   "outputs": [
    {
     "name": "stdout",
     "output_type": "stream",
     "text": [
      "<class 'pandas.core.frame.DataFrame'>\n",
      "RangeIndex: 13647309 entries, 0 to 13647308\n",
      "Data columns (total 48 columns):\n",
      "fecha_dato               object\n",
      "ncodpers                 int64\n",
      "ind_empleado             object\n",
      "pais_residencia          object\n",
      "sexo                     object\n",
      "age                      object\n",
      "fecha_alta               object\n",
      "ind_nuevo                float64\n",
      "antiguedad               object\n",
      "indrel                   float64\n",
      "ult_fec_cli_1t           object\n",
      "indrel_1mes              object\n",
      "tiprel_1mes              object\n",
      "indresi                  object\n",
      "indext                   object\n",
      "conyuemp                 object\n",
      "canal_entrada            object\n",
      "indfall                  object\n",
      "tipodom                  float64\n",
      "cod_prov                 float64\n",
      "nomprov                  object\n",
      "ind_actividad_cliente    float64\n",
      "renta                    float64\n",
      "segmento                 object\n",
      "ind_ahor_fin_ult1        int64\n",
      "ind_aval_fin_ult1        int64\n",
      "ind_cco_fin_ult1         int64\n",
      "ind_cder_fin_ult1        int64\n",
      "ind_cno_fin_ult1         int64\n",
      "ind_ctju_fin_ult1        int64\n",
      "ind_ctma_fin_ult1        int64\n",
      "ind_ctop_fin_ult1        int64\n",
      "ind_ctpp_fin_ult1        int64\n",
      "ind_deco_fin_ult1        int64\n",
      "ind_deme_fin_ult1        int64\n",
      "ind_dela_fin_ult1        int64\n",
      "ind_ecue_fin_ult1        int64\n",
      "ind_fond_fin_ult1        int64\n",
      "ind_hip_fin_ult1         int64\n",
      "ind_plan_fin_ult1        int64\n",
      "ind_pres_fin_ult1        int64\n",
      "ind_reca_fin_ult1        int64\n",
      "ind_tjcr_fin_ult1        int64\n",
      "ind_valo_fin_ult1        int64\n",
      "ind_viv_fin_ult1         int64\n",
      "ind_nomina_ult1          float64\n",
      "ind_nom_pens_ult1        float64\n",
      "ind_recibo_ult1          int64\n",
      "dtypes: float64(8), int64(23), object(17)\n",
      "memory usage: 4.9+ GB\n",
      "None\n",
      "==================================================\n",
      "0 secs\n"
     ]
    }
   ],
   "source": [
    "st = time.time()\n",
    "\n",
    "print(trn.info())\n",
    "\n",
    "print_time(time.time(),st)"
   ]
  },
  {
   "cell_type": "code",
   "execution_count": 13,
   "metadata": {},
   "outputs": [
    {
     "data": {
      "text/plain": [
       "dtype('O')"
      ]
     },
     "execution_count": 13,
     "metadata": {},
     "output_type": "execute_result"
    }
   ],
   "source": [
    "trn['fecha_dato'].dtype"
   ]
  },
  {
   "cell_type": "code",
   "execution_count": 14,
   "metadata": {},
   "outputs": [
    {
     "data": {
      "text/plain": [
       "dtype('int64')"
      ]
     },
     "execution_count": 14,
     "metadata": {},
     "output_type": "execute_result"
    }
   ],
   "source": [
    "trn['ind_recibo_ult1'].dtype"
   ]
  },
  {
   "cell_type": "code",
   "execution_count": 15,
   "metadata": {},
   "outputs": [
    {
     "data": {
      "text/plain": [
       "dtype('float64')"
      ]
     },
     "execution_count": 15,
     "metadata": {},
     "output_type": "execute_result"
    }
   ],
   "source": [
    "trn['ind_nom_pens_ult1'].dtype"
   ]
  },
  {
   "cell_type": "code",
   "execution_count": 19,
   "metadata": {},
   "outputs": [
    {
     "name": "stdout",
     "output_type": "stream",
     "text": [
      "           ncodpers     ind_nuevo        indrel     tipodom      cod_prov  \\\n",
      "count  1.364731e+07  1.361958e+07  1.361958e+07  13619574.0  1.355372e+07   \n",
      "mean   8.349042e+05  5.956184e-02  1.178399e+00         1.0  2.657147e+01   \n",
      "std    4.315650e+05  2.366733e-01  4.177469e+00         0.0  1.278402e+01   \n",
      "min    1.588900e+04  0.000000e+00  1.000000e+00         1.0  1.000000e+00   \n",
      "25%    4.528130e+05  0.000000e+00  1.000000e+00         1.0  1.500000e+01   \n",
      "50%    9.318930e+05  0.000000e+00  1.000000e+00         1.0  2.800000e+01   \n",
      "75%    1.199286e+06  0.000000e+00  1.000000e+00         1.0  3.500000e+01   \n",
      "max    1.553689e+06  1.000000e+00  9.900000e+01         1.0  5.200000e+01   \n",
      "\n",
      "       ind_actividad_cliente         renta  \n",
      "count           1.361958e+07  1.085293e+07  \n",
      "mean            4.578105e-01  1.342543e+05  \n",
      "std             4.982169e-01  2.306202e+05  \n",
      "min             0.000000e+00  1.202730e+03  \n",
      "25%             0.000000e+00  6.871098e+04  \n",
      "50%             0.000000e+00  1.018500e+05  \n",
      "75%             1.000000e+00  1.559560e+05  \n",
      "max             1.000000e+00  2.889440e+07  \n",
      "==================================================\n",
      "7 secs\n"
     ]
    }
   ],
   "source": [
    "st = time.time()\n",
    "\n",
    "# observe numerical columns\n",
    "num_cols = [col for col in trn.columns[:24] if trn[col].dtype in ['int64', 'float64']]\n",
    "print(trn[num_cols].describe())\n",
    "\n",
    "print_time(time.time(),st)"
   ]
  },
  {
   "cell_type": "code",
   "execution_count": 21,
   "metadata": {},
   "outputs": [
    {
     "name": "stdout",
     "output_type": "stream",
     "text": [
      "        fecha_dato ind_empleado pais_residencia      sexo       age  \\\n",
      "count     13647309     13619575        13619575  13619505  13647309   \n",
      "unique          17            5             118         2       235   \n",
      "top     2016-05-28            N              ES         V        23   \n",
      "freq        931453     13610977        13553710   7424252    542682   \n",
      "\n",
      "        fecha_alta  antiguedad ult_fec_cli_1t  indrel_1mes tiprel_1mes  \\\n",
      "count     13619575    13647309          24793   13497528.0    13497528   \n",
      "unique        6756         507            223         13.0           5   \n",
      "top     2014-07-28           0     2015-12-24          1.0           I   \n",
      "freq         57389      134335            763    7277607.0     7304875   \n",
      "\n",
      "         indresi    indext conyuemp canal_entrada   indfall   nomprov  \\\n",
      "count   13619575  13619575     1808      13461183  13619575  13553718   \n",
      "unique         2         2        2           162         2        52   \n",
      "top            S         N        N           KHE         N    MADRID   \n",
      "freq    13553711  12974839     1791       4055270  13584813   4409600   \n",
      "\n",
      "                 segmento  \n",
      "count            13457941  \n",
      "unique                  3  \n",
      "top     02 - PARTICULARES  \n",
      "freq              7960220  \n",
      "==================================================\n",
      "47 secs\n"
     ]
    }
   ],
   "source": [
    "st = time.time()\n",
    "\n",
    "# observe numerical columns\n",
    "cat_cols = [col for col in trn.columns[:24] if trn[col].dtype in ['O']]\n",
    "print(trn[cat_cols].describe())\n",
    "\n",
    "print_time(time.time(),st)"
   ]
  }
 ],
 "metadata": {
  "kernelspec": {
   "display_name": "Python 3",
   "language": "python",
   "name": "python3"
  },
  "language_info": {
   "codemirror_mode": {
    "name": "ipython",
    "version": 3
   },
   "file_extension": ".py",
   "mimetype": "text/x-python",
   "name": "python",
   "nbconvert_exporter": "python",
   "pygments_lexer": "ipython3",
   "version": "3.6.4"
  }
 },
 "nbformat": 4,
 "nbformat_minor": 2
}
